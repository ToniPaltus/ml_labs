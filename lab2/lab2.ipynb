{
 "cells": [
  {
   "cell_type": "markdown",
   "source": [
    "# Lab 2. NLP-classifier.\n",
    "## Task 3 var 12:\n",
    "## 1. Naive Bayes.\n",
    "## 2. Neural network with long short-term memory. Nn-LSTM."
   ],
   "metadata": {
    "collapsed": false
   }
  },
  {
   "cell_type": "markdown",
   "source": [
    "### 0. Import libraries"
   ],
   "metadata": {
    "collapsed": false
   }
  },
  {
   "cell_type": "code",
   "execution_count": 81,
   "outputs": [],
   "source": [
    "# for data processing\n",
    "import pandas as pd\n",
    "\n",
    "# for graphics\n",
    "import matplotlib.pyplot as plt\n",
    "\n",
    "# for models\n",
    "from sklearn.model_selection import train_test_split\n",
    "from sklearn.metrics import classification_report, confusion_matrix\n",
    "\n",
    "from sklearn.feature_extraction.text import CountVectorizer\n",
    "from sklearn.naive_bayes import MultinomialNB\n",
    "\n",
    "from tensorflow.keras.preprocessing.text import Tokenizer\n",
    "from tensorflow.keras.preprocessing.sequence import pad_sequences\n",
    "from tensorflow.keras import layers, losses, metrics, optimizers\n",
    "from tensorflow.keras.models import Sequential"
   ],
   "metadata": {
    "collapsed": false,
    "ExecuteTime": {
     "start_time": "2023-04-27T23:20:48.016616Z",
     "end_time": "2023-04-27T23:20:48.234541Z"
    }
   }
  },
  {
   "cell_type": "markdown",
   "source": [
    "### 1. Data preprocessing"
   ],
   "metadata": {
    "collapsed": false
   }
  },
  {
   "cell_type": "markdown",
   "source": [
    "#### 1.1 Psy"
   ],
   "metadata": {
    "collapsed": false
   }
  },
  {
   "cell_type": "code",
   "execution_count": 82,
   "outputs": [],
   "source": [
    "import os, fnmatch\n",
    "files = [file for file in os.listdir('data/') if fnmatch.fnmatch(file, '*.csv')]"
   ],
   "metadata": {
    "collapsed": false,
    "ExecuteTime": {
     "start_time": "2023-04-27T23:20:48.035238Z",
     "end_time": "2023-04-27T23:20:48.471837Z"
    }
   }
  },
  {
   "cell_type": "code",
   "execution_count": 83,
   "outputs": [
    {
     "name": "stdout",
     "output_type": "stream",
     "text": [
      "<class 'pandas.core.frame.DataFrame'>\n",
      "RangeIndex: 350 entries, 0 to 349\n",
      "Data columns (total 5 columns):\n",
      " #   Column      Non-Null Count  Dtype \n",
      "---  ------      --------------  ----- \n",
      " 0   COMMENT_ID  350 non-null    object\n",
      " 1   AUTHOR      350 non-null    object\n",
      " 2   DATE        350 non-null    object\n",
      " 3   CONTENT     350 non-null    object\n",
      " 4   CLASS       350 non-null    int64 \n",
      "dtypes: int64(1), object(4)\n",
      "memory usage: 13.8+ KB\n"
     ]
    }
   ],
   "source": [
    "Psy_df = pd.read_csv('data/Youtube01-Psy.csv')\n",
    "Psy_df.drop_duplicates(inplace=True)\n",
    "Psy_df.info()"
   ],
   "metadata": {
    "collapsed": false,
    "ExecuteTime": {
     "start_time": "2023-04-27T23:20:48.046944Z",
     "end_time": "2023-04-27T23:20:48.478126Z"
    }
   }
  },
  {
   "cell_type": "code",
   "execution_count": 84,
   "outputs": [
    {
     "data": {
      "text/plain": "                                    COMMENT_ID            AUTHOR   \n0  LZQPQhLyRh80UYxNuaDWhIGQYNQ96IuCg-AYWqNPjpU         Julius NM  \\\n1  LZQPQhLyRh_C2cTtd9MvFRJedxydaVW-2sNg5Diuo4A       adam riyati   \n2  LZQPQhLyRh9MSZYnf8djyk0gEF9BHDPYrrK-qCczIY8  Evgeny Murashkin   \n3          z13jhp0bxqncu512g22wvzkasxmvvzjaz04   ElNino Melendez   \n4          z13fwbwp1oujthgqj04chlngpvzmtt3r3dw            GsMega   \n\n                  DATE                                            CONTENT   \n0  2013-11-07T06:20:48  Huh, anyway check out this you[tube] channel: ...  \\\n1  2013-11-07T12:37:15  Hey guys check out my new channel and our firs...   \n2  2013-11-08T17:34:21             just for test I have to say murdev.com   \n3  2013-11-09T08:28:43   me shaking my sexy ass on my channel enjoy ^_^ ﻿   \n4  2013-11-10T16:05:38            watch?v=vtaRGgvGtWQ   Check this out .﻿   \n\n   CLASS  \n0      1  \n1      1  \n2      1  \n3      1  \n4      1  ",
      "text/html": "<div>\n<style scoped>\n    .dataframe tbody tr th:only-of-type {\n        vertical-align: middle;\n    }\n\n    .dataframe tbody tr th {\n        vertical-align: top;\n    }\n\n    .dataframe thead th {\n        text-align: right;\n    }\n</style>\n<table border=\"1\" class=\"dataframe\">\n  <thead>\n    <tr style=\"text-align: right;\">\n      <th></th>\n      <th>COMMENT_ID</th>\n      <th>AUTHOR</th>\n      <th>DATE</th>\n      <th>CONTENT</th>\n      <th>CLASS</th>\n    </tr>\n  </thead>\n  <tbody>\n    <tr>\n      <th>0</th>\n      <td>LZQPQhLyRh80UYxNuaDWhIGQYNQ96IuCg-AYWqNPjpU</td>\n      <td>Julius NM</td>\n      <td>2013-11-07T06:20:48</td>\n      <td>Huh, anyway check out this you[tube] channel: ...</td>\n      <td>1</td>\n    </tr>\n    <tr>\n      <th>1</th>\n      <td>LZQPQhLyRh_C2cTtd9MvFRJedxydaVW-2sNg5Diuo4A</td>\n      <td>adam riyati</td>\n      <td>2013-11-07T12:37:15</td>\n      <td>Hey guys check out my new channel and our firs...</td>\n      <td>1</td>\n    </tr>\n    <tr>\n      <th>2</th>\n      <td>LZQPQhLyRh9MSZYnf8djyk0gEF9BHDPYrrK-qCczIY8</td>\n      <td>Evgeny Murashkin</td>\n      <td>2013-11-08T17:34:21</td>\n      <td>just for test I have to say murdev.com</td>\n      <td>1</td>\n    </tr>\n    <tr>\n      <th>3</th>\n      <td>z13jhp0bxqncu512g22wvzkasxmvvzjaz04</td>\n      <td>ElNino Melendez</td>\n      <td>2013-11-09T08:28:43</td>\n      <td>me shaking my sexy ass on my channel enjoy ^_^ ﻿</td>\n      <td>1</td>\n    </tr>\n    <tr>\n      <th>4</th>\n      <td>z13fwbwp1oujthgqj04chlngpvzmtt3r3dw</td>\n      <td>GsMega</td>\n      <td>2013-11-10T16:05:38</td>\n      <td>watch?v=vtaRGgvGtWQ   Check this out .﻿</td>\n      <td>1</td>\n    </tr>\n  </tbody>\n</table>\n</div>"
     },
     "execution_count": 84,
     "metadata": {},
     "output_type": "execute_result"
    }
   ],
   "source": [
    "Psy_df.head()"
   ],
   "metadata": {
    "collapsed": false,
    "ExecuteTime": {
     "start_time": "2023-04-27T23:20:48.062149Z",
     "end_time": "2023-04-27T23:20:48.488695Z"
    }
   }
  },
  {
   "cell_type": "code",
   "execution_count": 85,
   "outputs": [],
   "source": [
    "Psy_df.drop('COMMENT_ID', axis=1, inplace=True)"
   ],
   "metadata": {
    "collapsed": false,
    "ExecuteTime": {
     "start_time": "2023-04-27T23:20:48.062211Z",
     "end_time": "2023-04-27T23:20:48.493205Z"
    }
   }
  },
  {
   "cell_type": "code",
   "execution_count": 86,
   "outputs": [
    {
     "data": {
      "text/plain": "             AUTHOR                 DATE   \n0         Julius NM  2013-11-07T06:20:48  \\\n1       adam riyati  2013-11-07T12:37:15   \n2  Evgeny Murashkin  2013-11-08T17:34:21   \n3   ElNino Melendez  2013-11-09T08:28:43   \n4            GsMega  2013-11-10T16:05:38   \n\n                                             CONTENT  CLASS  \n0  Huh, anyway check out this you[tube] channel: ...      1  \n1  Hey guys check out my new channel and our firs...      1  \n2             just for test I have to say murdev.com      1  \n3   me shaking my sexy ass on my channel enjoy ^_^ ﻿      1  \n4            watch?v=vtaRGgvGtWQ   Check this out .﻿      1  ",
      "text/html": "<div>\n<style scoped>\n    .dataframe tbody tr th:only-of-type {\n        vertical-align: middle;\n    }\n\n    .dataframe tbody tr th {\n        vertical-align: top;\n    }\n\n    .dataframe thead th {\n        text-align: right;\n    }\n</style>\n<table border=\"1\" class=\"dataframe\">\n  <thead>\n    <tr style=\"text-align: right;\">\n      <th></th>\n      <th>AUTHOR</th>\n      <th>DATE</th>\n      <th>CONTENT</th>\n      <th>CLASS</th>\n    </tr>\n  </thead>\n  <tbody>\n    <tr>\n      <th>0</th>\n      <td>Julius NM</td>\n      <td>2013-11-07T06:20:48</td>\n      <td>Huh, anyway check out this you[tube] channel: ...</td>\n      <td>1</td>\n    </tr>\n    <tr>\n      <th>1</th>\n      <td>adam riyati</td>\n      <td>2013-11-07T12:37:15</td>\n      <td>Hey guys check out my new channel and our firs...</td>\n      <td>1</td>\n    </tr>\n    <tr>\n      <th>2</th>\n      <td>Evgeny Murashkin</td>\n      <td>2013-11-08T17:34:21</td>\n      <td>just for test I have to say murdev.com</td>\n      <td>1</td>\n    </tr>\n    <tr>\n      <th>3</th>\n      <td>ElNino Melendez</td>\n      <td>2013-11-09T08:28:43</td>\n      <td>me shaking my sexy ass on my channel enjoy ^_^ ﻿</td>\n      <td>1</td>\n    </tr>\n    <tr>\n      <th>4</th>\n      <td>GsMega</td>\n      <td>2013-11-10T16:05:38</td>\n      <td>watch?v=vtaRGgvGtWQ   Check this out .﻿</td>\n      <td>1</td>\n    </tr>\n  </tbody>\n</table>\n</div>"
     },
     "execution_count": 86,
     "metadata": {},
     "output_type": "execute_result"
    }
   ],
   "source": [
    "Psy_df.head()"
   ],
   "metadata": {
    "collapsed": false,
    "ExecuteTime": {
     "start_time": "2023-04-27T23:20:48.072256Z",
     "end_time": "2023-04-27T23:20:48.497801Z"
    }
   }
  },
  {
   "cell_type": "code",
   "execution_count": 87,
   "outputs": [
    {
     "data": {
      "text/plain": "AUTHOR     0\nDATE       0\nCONTENT    0\nCLASS      0\ndtype: int64"
     },
     "execution_count": 87,
     "metadata": {},
     "output_type": "execute_result"
    }
   ],
   "source": [
    "Psy_df.isnull().sum()"
   ],
   "metadata": {
    "collapsed": false,
    "ExecuteTime": {
     "start_time": "2023-04-27T23:20:48.073144Z",
     "end_time": "2023-04-27T23:20:48.521302Z"
    }
   }
  },
  {
   "cell_type": "code",
   "execution_count": 88,
   "outputs": [
    {
     "data": {
      "text/plain": "              AUTHOR                 DATE   \ncount            350                  350  \\\nunique           345                  350   \ntop     Giang Nguyen  2013-11-07T06:20:48   \nfreq               2                    1   \nmean             NaN                  NaN   \nstd              NaN                  NaN   \nmin              NaN                  NaN   \n25%              NaN                  NaN   \n50%              NaN                  NaN   \n75%              NaN                  NaN   \nmax              NaN                  NaN   \n\n                                                  CONTENT       CLASS  \ncount                                                 350  350.000000  \nunique                                                349         NaN  \ntop     PSY - GANGNAM STYLE (강남스타일) M/V: http://youtu....         NaN  \nfreq                                                    2         NaN  \nmean                                                  NaN    0.500000  \nstd                                                   NaN    0.500716  \nmin                                                   NaN    0.000000  \n25%                                                   NaN    0.000000  \n50%                                                   NaN    0.500000  \n75%                                                   NaN    1.000000  \nmax                                                   NaN    1.000000  ",
      "text/html": "<div>\n<style scoped>\n    .dataframe tbody tr th:only-of-type {\n        vertical-align: middle;\n    }\n\n    .dataframe tbody tr th {\n        vertical-align: top;\n    }\n\n    .dataframe thead th {\n        text-align: right;\n    }\n</style>\n<table border=\"1\" class=\"dataframe\">\n  <thead>\n    <tr style=\"text-align: right;\">\n      <th></th>\n      <th>AUTHOR</th>\n      <th>DATE</th>\n      <th>CONTENT</th>\n      <th>CLASS</th>\n    </tr>\n  </thead>\n  <tbody>\n    <tr>\n      <th>count</th>\n      <td>350</td>\n      <td>350</td>\n      <td>350</td>\n      <td>350.000000</td>\n    </tr>\n    <tr>\n      <th>unique</th>\n      <td>345</td>\n      <td>350</td>\n      <td>349</td>\n      <td>NaN</td>\n    </tr>\n    <tr>\n      <th>top</th>\n      <td>Giang Nguyen</td>\n      <td>2013-11-07T06:20:48</td>\n      <td>PSY - GANGNAM STYLE (강남스타일) M/V: http://youtu....</td>\n      <td>NaN</td>\n    </tr>\n    <tr>\n      <th>freq</th>\n      <td>2</td>\n      <td>1</td>\n      <td>2</td>\n      <td>NaN</td>\n    </tr>\n    <tr>\n      <th>mean</th>\n      <td>NaN</td>\n      <td>NaN</td>\n      <td>NaN</td>\n      <td>0.500000</td>\n    </tr>\n    <tr>\n      <th>std</th>\n      <td>NaN</td>\n      <td>NaN</td>\n      <td>NaN</td>\n      <td>0.500716</td>\n    </tr>\n    <tr>\n      <th>min</th>\n      <td>NaN</td>\n      <td>NaN</td>\n      <td>NaN</td>\n      <td>0.000000</td>\n    </tr>\n    <tr>\n      <th>25%</th>\n      <td>NaN</td>\n      <td>NaN</td>\n      <td>NaN</td>\n      <td>0.000000</td>\n    </tr>\n    <tr>\n      <th>50%</th>\n      <td>NaN</td>\n      <td>NaN</td>\n      <td>NaN</td>\n      <td>0.500000</td>\n    </tr>\n    <tr>\n      <th>75%</th>\n      <td>NaN</td>\n      <td>NaN</td>\n      <td>NaN</td>\n      <td>1.000000</td>\n    </tr>\n    <tr>\n      <th>max</th>\n      <td>NaN</td>\n      <td>NaN</td>\n      <td>NaN</td>\n      <td>1.000000</td>\n    </tr>\n  </tbody>\n</table>\n</div>"
     },
     "execution_count": 88,
     "metadata": {},
     "output_type": "execute_result"
    }
   ],
   "source": [
    "Psy_df.describe(include='all')"
   ],
   "metadata": {
    "collapsed": false,
    "ExecuteTime": {
     "start_time": "2023-04-27T23:20:48.082666Z",
     "end_time": "2023-04-27T23:20:48.533329Z"
    }
   }
  },
  {
   "cell_type": "code",
   "execution_count": 89,
   "outputs": [
    {
     "name": "stderr",
     "output_type": "stream",
     "text": [
      "/tmp/ipykernel_13349/4113268658.py:8: UserWarning: Matplotlib is currently using module://matplotlib_inline.backend_inline, which is a non-GUI backend, so cannot show the figure.\n",
      "  fig.show()\n"
     ]
    },
    {
     "data": {
      "text/plain": "<Figure size 640x480 with 1 Axes>",
      "image/png": "[encoded data removed]"
     },
     "metadata": {},
     "output_type": "display_data"
    }
   ],
   "source": [
    "spam_cnt = Psy_df[Psy_df.CLASS == 1].shape[0]\n",
    "no_spam_cnt = Psy_df[Psy_df.CLASS == 0].shape[0]\n",
    "\n",
    "fig, ax = plt.subplots()\n",
    "ax.bar(['Spam', 'Non-spam'], [spam_cnt, no_spam_cnt], color=['r', 'g'])\n",
    "ax.set_title('Mean value')\n",
    "ax.set_ylabel('Count')\n",
    "fig.show()"
   ],
   "metadata": {
    "collapsed": false,
    "ExecuteTime": {
     "start_time": "2023-04-27T23:20:48.101250Z",
     "end_time": "2023-04-27T23:20:48.630746Z"
    }
   }
  },
  {
   "cell_type": "markdown",
   "source": [
    "#### 1.2 KatyPerry"
   ],
   "metadata": {
    "collapsed": false
   }
  },
  {
   "cell_type": "code",
   "execution_count": 90,
   "outputs": [
    {
     "name": "stdout",
     "output_type": "stream",
     "text": [
      "<class 'pandas.core.frame.DataFrame'>\n",
      "RangeIndex: 350 entries, 0 to 349\n",
      "Data columns (total 5 columns):\n",
      " #   Column      Non-Null Count  Dtype \n",
      "---  ------      --------------  ----- \n",
      " 0   COMMENT_ID  350 non-null    object\n",
      " 1   AUTHOR      350 non-null    object\n",
      " 2   DATE        350 non-null    object\n",
      " 3   CONTENT     350 non-null    object\n",
      " 4   CLASS       350 non-null    int64 \n",
      "dtypes: int64(1), object(4)\n",
      "memory usage: 13.8+ KB\n"
     ]
    }
   ],
   "source": [
    "KatyPerry_df = pd.read_csv('data/Youtube02-KatyPerry.csv')\n",
    "KatyPerry_df.drop_duplicates(inplace=True)\n",
    "KatyPerry_df.info()"
   ],
   "metadata": {
    "collapsed": false,
    "ExecuteTime": {
     "start_time": "2023-04-27T23:20:48.219736Z",
     "end_time": "2023-04-27T23:20:48.632414Z"
    }
   }
  },
  {
   "cell_type": "code",
   "execution_count": 91,
   "outputs": [
    {
     "data": {
      "text/plain": "                              COMMENT_ID        AUTHOR                 DATE   \n0      z12pgdhovmrktzm3i23es5d5junftft3f   lekanaVEVO1  2014-07-22T15:27:50  \\\n1    z13yx345uxepetggz04ci5rjcxeohzlrtf4      Pyunghee  2014-07-27T01:57:16   \n2  z12lsjvi3wa5x1vwh04cibeaqnzrevxajw00k    Erica Ross  2014-07-27T02:51:43   \n3    z13jcjuovxbwfr0ge04cev2ipsjdfdurwck  Aviel Haimov  2014-08-01T12:27:48   \n4  z13qybua2yfydzxzj04cgfpqdt2syfx53ms0k    John Bello  2014-08-01T21:04:03   \n\n                                             CONTENT  CLASS  \n0  i love this so much. AND also I Generate Free ...      1  \n1  http://www.billboard.com/articles/columns/pop-...      1  \n2  Hey guys! Please join me in my fight to help a...      1  \n3  http://psnboss.com/?ref=2tGgp3pV6L this is the...      1  \n4  Hey everyone. Watch this trailer!!!!!!!!  http...      1  ",
      "text/html": "<div>\n<style scoped>\n    .dataframe tbody tr th:only-of-type {\n        vertical-align: middle;\n    }\n\n    .dataframe tbody tr th {\n        vertical-align: top;\n    }\n\n    .dataframe thead th {\n        text-align: right;\n    }\n</style>\n<table border=\"1\" class=\"dataframe\">\n  <thead>\n    <tr style=\"text-align: right;\">\n      <th></th>\n      <th>COMMENT_ID</th>\n      <th>AUTHOR</th>\n      <th>DATE</th>\n      <th>CONTENT</th>\n      <th>CLASS</th>\n    </tr>\n  </thead>\n  <tbody>\n    <tr>\n      <th>0</th>\n      <td>z12pgdhovmrktzm3i23es5d5junftft3f</td>\n      <td>lekanaVEVO1</td>\n      <td>2014-07-22T15:27:50</td>\n      <td>i love this so much. AND also I Generate Free ...</td>\n      <td>1</td>\n    </tr>\n    <tr>\n      <th>1</th>\n      <td>z13yx345uxepetggz04ci5rjcxeohzlrtf4</td>\n      <td>Pyunghee</td>\n      <td>2014-07-27T01:57:16</td>\n      <td>http://www.billboard.com/articles/columns/pop-...</td>\n      <td>1</td>\n    </tr>\n    <tr>\n      <th>2</th>\n      <td>z12lsjvi3wa5x1vwh04cibeaqnzrevxajw00k</td>\n      <td>Erica Ross</td>\n      <td>2014-07-27T02:51:43</td>\n      <td>Hey guys! Please join me in my fight to help a...</td>\n      <td>1</td>\n    </tr>\n    <tr>\n      <th>3</th>\n      <td>z13jcjuovxbwfr0ge04cev2ipsjdfdurwck</td>\n      <td>Aviel Haimov</td>\n      <td>2014-08-01T12:27:48</td>\n      <td>http://psnboss.com/?ref=2tGgp3pV6L this is the...</td>\n      <td>1</td>\n    </tr>\n    <tr>\n      <th>4</th>\n      <td>z13qybua2yfydzxzj04cgfpqdt2syfx53ms0k</td>\n      <td>John Bello</td>\n      <td>2014-08-01T21:04:03</td>\n      <td>Hey everyone. Watch this trailer!!!!!!!!  http...</td>\n      <td>1</td>\n    </tr>\n  </tbody>\n</table>\n</div>"
     },
     "execution_count": 91,
     "metadata": {},
     "output_type": "execute_result"
    }
   ],
   "source": [
    "KatyPerry_df.head()"
   ],
   "metadata": {
    "collapsed": false,
    "ExecuteTime": {
     "start_time": "2023-04-27T23:20:48.219773Z",
     "end_time": "2023-04-27T23:20:48.632502Z"
    }
   }
  },
  {
   "cell_type": "code",
   "execution_count": 92,
   "outputs": [
    {
     "data": {
      "text/plain": "         AUTHOR                 DATE   \n0   lekanaVEVO1  2014-07-22T15:27:50  \\\n1      Pyunghee  2014-07-27T01:57:16   \n2    Erica Ross  2014-07-27T02:51:43   \n3  Aviel Haimov  2014-08-01T12:27:48   \n4    John Bello  2014-08-01T21:04:03   \n\n                                             CONTENT  CLASS  \n0  i love this so much. AND also I Generate Free ...      1  \n1  http://www.billboard.com/articles/columns/pop-...      1  \n2  Hey guys! Please join me in my fight to help a...      1  \n3  http://psnboss.com/?ref=2tGgp3pV6L this is the...      1  \n4  Hey everyone. Watch this trailer!!!!!!!!  http...      1  ",
      "text/html": "<div>\n<style scoped>\n    .dataframe tbody tr th:only-of-type {\n        vertical-align: middle;\n    }\n\n    .dataframe tbody tr th {\n        vertical-align: top;\n    }\n\n    .dataframe thead th {\n        text-align: right;\n    }\n</style>\n<table border=\"1\" class=\"dataframe\">\n  <thead>\n    <tr style=\"text-align: right;\">\n      <th></th>\n      <th>AUTHOR</th>\n      <th>DATE</th>\n      <th>CONTENT</th>\n      <th>CLASS</th>\n    </tr>\n  </thead>\n  <tbody>\n    <tr>\n      <th>0</th>\n      <td>lekanaVEVO1</td>\n      <td>2014-07-22T15:27:50</td>\n      <td>i love this so much. AND also I Generate Free ...</td>\n      <td>1</td>\n    </tr>\n    <tr>\n      <th>1</th>\n      <td>Pyunghee</td>\n      <td>2014-07-27T01:57:16</td>\n      <td>http://www.billboard.com/articles/columns/pop-...</td>\n      <td>1</td>\n    </tr>\n    <tr>\n      <th>2</th>\n      <td>Erica Ross</td>\n      <td>2014-07-27T02:51:43</td>\n      <td>Hey guys! Please join me in my fight to help a...</td>\n      <td>1</td>\n    </tr>\n    <tr>\n      <th>3</th>\n      <td>Aviel Haimov</td>\n      <td>2014-08-01T12:27:48</td>\n      <td>http://psnboss.com/?ref=2tGgp3pV6L this is the...</td>\n      <td>1</td>\n    </tr>\n    <tr>\n      <th>4</th>\n      <td>John Bello</td>\n      <td>2014-08-01T21:04:03</td>\n      <td>Hey everyone. Watch this trailer!!!!!!!!  http...</td>\n      <td>1</td>\n    </tr>\n  </tbody>\n</table>\n</div>"
     },
     "execution_count": 92,
     "metadata": {},
     "output_type": "execute_result"
    }
   ],
   "source": [
    "KatyPerry_df.drop('COMMENT_ID', axis=1, inplace=True)\n",
    "KatyPerry_df.head()"
   ],
   "metadata": {
    "collapsed": false,
    "ExecuteTime": {
     "start_time": "2023-04-27T23:20:48.224012Z",
     "end_time": "2023-04-27T23:20:48.633409Z"
    }
   }
  },
  {
   "cell_type": "code",
   "execution_count": 93,
   "outputs": [
    {
     "data": {
      "text/plain": "AUTHOR     0\nDATE       0\nCONTENT    0\nCLASS      0\ndtype: int64"
     },
     "execution_count": 93,
     "metadata": {},
     "output_type": "execute_result"
    }
   ],
   "source": [
    "KatyPerry_df.isnull().sum()"
   ],
   "metadata": {
    "collapsed": false,
    "ExecuteTime": {
     "start_time": "2023-04-27T23:20:48.271761Z",
     "end_time": "2023-04-27T23:20:48.633524Z"
    }
   }
  },
  {
   "cell_type": "code",
   "execution_count": 94,
   "outputs": [
    {
     "data": {
      "text/plain": "                AUTHOR                 DATE   \ncount              350                  350  \\\nunique             342                  350   \ntop     LuckyMusiqLive  2014-07-22T15:27:50   \nfreq                 4                    1   \nmean               NaN                  NaN   \nstd                NaN                  NaN   \nmin                NaN                  NaN   \n25%                NaN                  NaN   \n50%                NaN                  NaN   \n75%                NaN                  NaN   \nmax                NaN                  NaN   \n\n                                                  CONTENT       CLASS  \ncount                                                 350  350.000000  \nunique                                                348         NaN  \ntop     Katy Perry - Roar (Official): http://youtu.be/...         NaN  \nfreq                                                    3         NaN  \nmean                                                  NaN    0.500000  \nstd                                                   NaN    0.500716  \nmin                                                   NaN    0.000000  \n25%                                                   NaN    0.000000  \n50%                                                   NaN    0.500000  \n75%                                                   NaN    1.000000  \nmax                                                   NaN    1.000000  ",
      "text/html": "<div>\n<style scoped>\n    .dataframe tbody tr th:only-of-type {\n        vertical-align: middle;\n    }\n\n    .dataframe tbody tr th {\n        vertical-align: top;\n    }\n\n    .dataframe thead th {\n        text-align: right;\n    }\n</style>\n<table border=\"1\" class=\"dataframe\">\n  <thead>\n    <tr style=\"text-align: right;\">\n      <th></th>\n      <th>AUTHOR</th>\n      <th>DATE</th>\n      <th>CONTENT</th>\n      <th>CLASS</th>\n    </tr>\n  </thead>\n  <tbody>\n    <tr>\n      <th>count</th>\n      <td>350</td>\n      <td>350</td>\n      <td>350</td>\n      <td>350.000000</td>\n    </tr>\n    <tr>\n      <th>unique</th>\n      <td>342</td>\n      <td>350</td>\n      <td>348</td>\n      <td>NaN</td>\n    </tr>\n    <tr>\n      <th>top</th>\n      <td>LuckyMusiqLive</td>\n      <td>2014-07-22T15:27:50</td>\n      <td>Katy Perry - Roar (Official): http://youtu.be/...</td>\n      <td>NaN</td>\n    </tr>\n    <tr>\n      <th>freq</th>\n      <td>4</td>\n      <td>1</td>\n      <td>3</td>\n      <td>NaN</td>\n    </tr>\n    <tr>\n      <th>mean</th>\n      <td>NaN</td>\n      <td>NaN</td>\n      <td>NaN</td>\n      <td>0.500000</td>\n    </tr>\n    <tr>\n      <th>std</th>\n      <td>NaN</td>\n      <td>NaN</td>\n      <td>NaN</td>\n      <td>0.500716</td>\n    </tr>\n    <tr>\n      <th>min</th>\n      <td>NaN</td>\n      <td>NaN</td>\n      <td>NaN</td>\n      <td>0.000000</td>\n    </tr>\n    <tr>\n      <th>25%</th>\n      <td>NaN</td>\n      <td>NaN</td>\n      <td>NaN</td>\n      <td>0.000000</td>\n    </tr>\n    <tr>\n      <th>50%</th>\n      <td>NaN</td>\n      <td>NaN</td>\n      <td>NaN</td>\n      <td>0.500000</td>\n    </tr>\n    <tr>\n      <th>75%</th>\n      <td>NaN</td>\n      <td>NaN</td>\n      <td>NaN</td>\n      <td>1.000000</td>\n    </tr>\n    <tr>\n      <th>max</th>\n      <td>NaN</td>\n      <td>NaN</td>\n      <td>NaN</td>\n      <td>1.000000</td>\n    </tr>\n  </tbody>\n</table>\n</div>"
     },
     "execution_count": 94,
     "metadata": {},
     "output_type": "execute_result"
    }
   ],
   "source": [
    "KatyPerry_df.describe(include='all')"
   ],
   "metadata": {
    "collapsed": false,
    "ExecuteTime": {
     "start_time": "2023-04-27T23:20:48.271798Z",
     "end_time": "2023-04-27T23:20:48.633596Z"
    }
   }
  },
  {
   "cell_type": "code",
   "execution_count": 95,
   "outputs": [
    {
     "name": "stderr",
     "output_type": "stream",
     "text": [
      "/tmp/ipykernel_13349/2410729970.py:8: UserWarning: Matplotlib is currently using module://matplotlib_inline.backend_inline, which is a non-GUI backend, so cannot show the figure.\n",
      "  fig.show()\n"
     ]
    },
    {
     "data": {
      "text/plain": "<Figure size 640x480 with 1 Axes>",
      "image/png": "[encoded data removed]"
     },
     "metadata": {},
     "output_type": "display_data"
    }
   ],
   "source": [
    "spam_cnt = KatyPerry_df[KatyPerry_df.CLASS == 1].shape[0]\n",
    "no_spam_cnt = KatyPerry_df[KatyPerry_df.CLASS == 0].shape[0]\n",
    "\n",
    "fig, ax = plt.subplots()\n",
    "ax.bar(['Spam', 'Non-spam'], [spam_cnt, no_spam_cnt], color=['r', 'g'])\n",
    "ax.set_title('Mean value')\n",
    "ax.set_ylabel('Count')\n",
    "fig.show()"
   ],
   "metadata": {
    "collapsed": false,
    "ExecuteTime": {
     "start_time": "2023-04-27T23:20:48.271840Z",
     "end_time": "2023-04-27T23:20:48.648063Z"
    }
   }
  },
  {
   "cell_type": "markdown",
   "source": [
    "#### 1.3. LMFAO"
   ],
   "metadata": {
    "collapsed": false
   }
  },
  {
   "cell_type": "code",
   "execution_count": 96,
   "outputs": [
    {
     "name": "stdout",
     "output_type": "stream",
     "text": [
      "<class 'pandas.core.frame.DataFrame'>\n",
      "RangeIndex: 438 entries, 0 to 437\n",
      "Data columns (total 5 columns):\n",
      " #   Column      Non-Null Count  Dtype \n",
      "---  ------      --------------  ----- \n",
      " 0   COMMENT_ID  438 non-null    object\n",
      " 1   AUTHOR      438 non-null    object\n",
      " 2   DATE        438 non-null    object\n",
      " 3   CONTENT     438 non-null    object\n",
      " 4   CLASS       438 non-null    int64 \n",
      "dtypes: int64(1), object(4)\n",
      "memory usage: 17.2+ KB\n"
     ]
    }
   ],
   "source": [
    "LMFAO_df = pd.read_csv('data/Youtube03-LMFAO.csv')\n",
    "LMFAO_df.drop_duplicates(inplace=True)\n",
    "LMFAO_df.info()"
   ],
   "metadata": {
    "collapsed": false,
    "ExecuteTime": {
     "start_time": "2023-04-27T23:20:48.361031Z",
     "end_time": "2023-04-27T23:20:48.648199Z"
    }
   }
  },
  {
   "cell_type": "code",
   "execution_count": 97,
   "outputs": [
    {
     "data": {
      "text/plain": "                              COMMENT_ID        AUTHOR   \n0  z13uwn2heqndtr5g304ccv5j5kqqzxjadmc0k  Corey Wilson  \\\n1  z124jvczaz3dxhnbc04cffk43oiugj25yzo0k   Epic Gaming   \n2      z13tczjy5xj0vjmu5231unho1ofey5zdk     LaS Music   \n3  z13tzr0hdpnayhqqc04cd3zqqqjkf3ngckk0k    Cheryl Fox   \n4  z12pcvix4zedcjvyb04ccr1r0mr2g5xwyng0k    PATRICK_TW   \n\n                         DATE   \n0  2015-05-28T21:39:52.376000  \\\n1  2015-05-28T20:07:20.610000   \n2  2015-05-28T19:23:35.355000   \n3  2015-05-28T17:49:35.294000   \n4  2015-05-28T16:28:26.818000   \n\n                                             CONTENT  CLASS  \n0  <a href=\"http://www.youtube.com/watch?v=KQ6zr6...      0  \n1                                   wierd but funny﻿      0  \n2  Hey guys, I&#39;m a human.<br /><br /><br />Bu...      1  \n3       Party Rock....lol...who wants to shuffle!!!﻿      0  \n4                                        Party rock﻿      0  ",
      "text/html": "<div>\n<style scoped>\n    .dataframe tbody tr th:only-of-type {\n        vertical-align: middle;\n    }\n\n    .dataframe tbody tr th {\n        vertical-align: top;\n    }\n\n    .dataframe thead th {\n        text-align: right;\n    }\n</style>\n<table border=\"1\" class=\"dataframe\">\n  <thead>\n    <tr style=\"text-align: right;\">\n      <th></th>\n      <th>COMMENT_ID</th>\n      <th>AUTHOR</th>\n      <th>DATE</th>\n      <th>CONTENT</th>\n      <th>CLASS</th>\n    </tr>\n  </thead>\n  <tbody>\n    <tr>\n      <th>0</th>\n      <td>z13uwn2heqndtr5g304ccv5j5kqqzxjadmc0k</td>\n      <td>Corey Wilson</td>\n      <td>2015-05-28T21:39:52.376000</td>\n      <td>&lt;a href=\"http://www.youtube.com/watch?v=KQ6zr6...</td>\n      <td>0</td>\n    </tr>\n    <tr>\n      <th>1</th>\n      <td>z124jvczaz3dxhnbc04cffk43oiugj25yzo0k</td>\n      <td>Epic Gaming</td>\n      <td>2015-05-28T20:07:20.610000</td>\n      <td>wierd but funny﻿</td>\n      <td>0</td>\n    </tr>\n    <tr>\n      <th>2</th>\n      <td>z13tczjy5xj0vjmu5231unho1ofey5zdk</td>\n      <td>LaS Music</td>\n      <td>2015-05-28T19:23:35.355000</td>\n      <td>Hey guys, I&amp;#39;m a human.&lt;br /&gt;&lt;br /&gt;&lt;br /&gt;Bu...</td>\n      <td>1</td>\n    </tr>\n    <tr>\n      <th>3</th>\n      <td>z13tzr0hdpnayhqqc04cd3zqqqjkf3ngckk0k</td>\n      <td>Cheryl Fox</td>\n      <td>2015-05-28T17:49:35.294000</td>\n      <td>Party Rock....lol...who wants to shuffle!!!﻿</td>\n      <td>0</td>\n    </tr>\n    <tr>\n      <th>4</th>\n      <td>z12pcvix4zedcjvyb04ccr1r0mr2g5xwyng0k</td>\n      <td>PATRICK_TW</td>\n      <td>2015-05-28T16:28:26.818000</td>\n      <td>Party rock﻿</td>\n      <td>0</td>\n    </tr>\n  </tbody>\n</table>\n</div>"
     },
     "execution_count": 97,
     "metadata": {},
     "output_type": "execute_result"
    }
   ],
   "source": [
    "LMFAO_df.head()"
   ],
   "metadata": {
    "collapsed": false,
    "ExecuteTime": {
     "start_time": "2023-04-27T23:20:48.376333Z",
     "end_time": "2023-04-27T23:20:48.648808Z"
    }
   }
  },
  {
   "cell_type": "code",
   "execution_count": 98,
   "outputs": [
    {
     "data": {
      "text/plain": "         AUTHOR                        DATE   \n0  Corey Wilson  2015-05-28T21:39:52.376000  \\\n1   Epic Gaming  2015-05-28T20:07:20.610000   \n2     LaS Music  2015-05-28T19:23:35.355000   \n3    Cheryl Fox  2015-05-28T17:49:35.294000   \n4    PATRICK_TW  2015-05-28T16:28:26.818000   \n\n                                             CONTENT  CLASS  \n0  <a href=\"http://www.youtube.com/watch?v=KQ6zr6...      0  \n1                                   wierd but funny﻿      0  \n2  Hey guys, I&#39;m a human.<br /><br /><br />Bu...      1  \n3       Party Rock....lol...who wants to shuffle!!!﻿      0  \n4                                        Party rock﻿      0  ",
      "text/html": "<div>\n<style scoped>\n    .dataframe tbody tr th:only-of-type {\n        vertical-align: middle;\n    }\n\n    .dataframe tbody tr th {\n        vertical-align: top;\n    }\n\n    .dataframe thead th {\n        text-align: right;\n    }\n</style>\n<table border=\"1\" class=\"dataframe\">\n  <thead>\n    <tr style=\"text-align: right;\">\n      <th></th>\n      <th>AUTHOR</th>\n      <th>DATE</th>\n      <th>CONTENT</th>\n      <th>CLASS</th>\n    </tr>\n  </thead>\n  <tbody>\n    <tr>\n      <th>0</th>\n      <td>Corey Wilson</td>\n      <td>2015-05-28T21:39:52.376000</td>\n      <td>&lt;a href=\"http://www.youtube.com/watch?v=KQ6zr6...</td>\n      <td>0</td>\n    </tr>\n    <tr>\n      <th>1</th>\n      <td>Epic Gaming</td>\n      <td>2015-05-28T20:07:20.610000</td>\n      <td>wierd but funny﻿</td>\n      <td>0</td>\n    </tr>\n    <tr>\n      <th>2</th>\n      <td>LaS Music</td>\n      <td>2015-05-28T19:23:35.355000</td>\n      <td>Hey guys, I&amp;#39;m a human.&lt;br /&gt;&lt;br /&gt;&lt;br /&gt;Bu...</td>\n      <td>1</td>\n    </tr>\n    <tr>\n      <th>3</th>\n      <td>Cheryl Fox</td>\n      <td>2015-05-28T17:49:35.294000</td>\n      <td>Party Rock....lol...who wants to shuffle!!!﻿</td>\n      <td>0</td>\n    </tr>\n    <tr>\n      <th>4</th>\n      <td>PATRICK_TW</td>\n      <td>2015-05-28T16:28:26.818000</td>\n      <td>Party rock﻿</td>\n      <td>0</td>\n    </tr>\n  </tbody>\n</table>\n</div>"
     },
     "execution_count": 98,
     "metadata": {},
     "output_type": "execute_result"
    }
   ],
   "source": [
    "LMFAO_df.drop('COMMENT_ID', axis=1, inplace=True)\n",
    "LMFAO_df.head()"
   ],
   "metadata": {
    "collapsed": false,
    "ExecuteTime": {
     "start_time": "2023-04-27T23:20:48.419757Z",
     "end_time": "2023-04-27T23:20:48.648987Z"
    }
   }
  },
  {
   "cell_type": "code",
   "execution_count": 99,
   "outputs": [
    {
     "data": {
      "text/plain": "AUTHOR     0\nDATE       0\nCONTENT    0\nCLASS      0\ndtype: int64"
     },
     "execution_count": 99,
     "metadata": {},
     "output_type": "execute_result"
    }
   ],
   "source": [
    "LMFAO_df.isnull().sum()"
   ],
   "metadata": {
    "collapsed": false,
    "ExecuteTime": {
     "start_time": "2023-04-27T23:20:48.419802Z",
     "end_time": "2023-04-27T23:20:48.649110Z"
    }
   }
  },
  {
   "cell_type": "code",
   "execution_count": 100,
   "outputs": [
    {
     "data": {
      "text/plain": "                     AUTHOR                        DATE   \ncount                   438                         438  \\\nunique                  420                         438   \ntop     Marshmallow Kingdom  2015-05-28T21:39:52.376000   \nfreq                      3                           1   \nmean                    NaN                         NaN   \nstd                     NaN                         NaN   \nmin                     NaN                         NaN   \n25%                     NaN                         NaN   \n50%                     NaN                         NaN   \n75%                     NaN                         NaN   \nmax                     NaN                         NaN   \n\n                                  CONTENT       CLASS  \ncount                                 438  438.000000  \nunique                                340         NaN  \ntop     Check out this video on YouTube:﻿         NaN  \nfreq                                   74         NaN  \nmean                                  NaN    0.538813  \nstd                                   NaN    0.499061  \nmin                                   NaN    0.000000  \n25%                                   NaN    0.000000  \n50%                                   NaN    1.000000  \n75%                                   NaN    1.000000  \nmax                                   NaN    1.000000  ",
      "text/html": "<div>\n<style scoped>\n    .dataframe tbody tr th:only-of-type {\n        vertical-align: middle;\n    }\n\n    .dataframe tbody tr th {\n        vertical-align: top;\n    }\n\n    .dataframe thead th {\n        text-align: right;\n    }\n</style>\n<table border=\"1\" class=\"dataframe\">\n  <thead>\n    <tr style=\"text-align: right;\">\n      <th></th>\n      <th>AUTHOR</th>\n      <th>DATE</th>\n      <th>CONTENT</th>\n      <th>CLASS</th>\n    </tr>\n  </thead>\n  <tbody>\n    <tr>\n      <th>count</th>\n      <td>438</td>\n      <td>438</td>\n      <td>438</td>\n      <td>438.000000</td>\n    </tr>\n    <tr>\n      <th>unique</th>\n      <td>420</td>\n      <td>438</td>\n      <td>340</td>\n      <td>NaN</td>\n    </tr>\n    <tr>\n      <th>top</th>\n      <td>Marshmallow Kingdom</td>\n      <td>2015-05-28T21:39:52.376000</td>\n      <td>Check out this video on YouTube:﻿</td>\n      <td>NaN</td>\n    </tr>\n    <tr>\n      <th>freq</th>\n      <td>3</td>\n      <td>1</td>\n      <td>74</td>\n      <td>NaN</td>\n    </tr>\n    <tr>\n      <th>mean</th>\n      <td>NaN</td>\n      <td>NaN</td>\n      <td>NaN</td>\n      <td>0.538813</td>\n    </tr>\n    <tr>\n      <th>std</th>\n      <td>NaN</td>\n      <td>NaN</td>\n      <td>NaN</td>\n      <td>0.499061</td>\n    </tr>\n    <tr>\n      <th>min</th>\n      <td>NaN</td>\n      <td>NaN</td>\n      <td>NaN</td>\n      <td>0.000000</td>\n    </tr>\n    <tr>\n      <th>25%</th>\n      <td>NaN</td>\n      <td>NaN</td>\n      <td>NaN</td>\n      <td>0.000000</td>\n    </tr>\n    <tr>\n      <th>50%</th>\n      <td>NaN</td>\n      <td>NaN</td>\n      <td>NaN</td>\n      <td>1.000000</td>\n    </tr>\n    <tr>\n      <th>75%</th>\n      <td>NaN</td>\n      <td>NaN</td>\n      <td>NaN</td>\n      <td>1.000000</td>\n    </tr>\n    <tr>\n      <th>max</th>\n      <td>NaN</td>\n      <td>NaN</td>\n      <td>NaN</td>\n      <td>1.000000</td>\n    </tr>\n  </tbody>\n</table>\n</div>"
     },
     "execution_count": 100,
     "metadata": {},
     "output_type": "execute_result"
    }
   ],
   "source": [
    "LMFAO_df.describe(include='all')"
   ],
   "metadata": {
    "collapsed": false,
    "ExecuteTime": {
     "start_time": "2023-04-27T23:20:48.419834Z",
     "end_time": "2023-04-27T23:20:48.649247Z"
    }
   }
  },
  {
   "cell_type": "code",
   "execution_count": 101,
   "outputs": [
    {
     "name": "stderr",
     "output_type": "stream",
     "text": [
      "/tmp/ipykernel_13349/3200778106.py:8: UserWarning: Matplotlib is currently using module://matplotlib_inline.backend_inline, which is a non-GUI backend, so cannot show the figure.\n",
      "  fig.show()\n"
     ]
    },
    {
     "data": {
      "text/plain": "<Figure size 640x480 with 1 Axes>",
      "image/png": "[encoded data removed]"
     },
     "metadata": {},
     "output_type": "display_data"
    }
   ],
   "source": [
    "spam_cnt = LMFAO_df[LMFAO_df.CLASS == 1].shape[0]\n",
    "no_spam_cnt = LMFAO_df[LMFAO_df.CLASS == 0].shape[0]\n",
    "\n",
    "fig, ax = plt.subplots()\n",
    "ax.bar(['Spam', 'Non-spam'], [spam_cnt, no_spam_cnt], color=['r', 'g'])\n",
    "ax.set_title('Mean value')\n",
    "ax.set_ylabel('Count')\n",
    "fig.show()"
   ],
   "metadata": {
    "collapsed": false,
    "ExecuteTime": {
     "start_time": "2023-04-27T23:20:48.463727Z",
     "end_time": "2023-04-27T23:20:48.795230Z"
    }
   }
  },
  {
   "cell_type": "markdown",
   "source": [
    "#### 1.4 Eminem"
   ],
   "metadata": {
    "collapsed": false
   }
  },
  {
   "cell_type": "code",
   "execution_count": 102,
   "outputs": [
    {
     "name": "stdout",
     "output_type": "stream",
     "text": [
      "<class 'pandas.core.frame.DataFrame'>\n",
      "Index: 446 entries, 0 to 447\n",
      "Data columns (total 5 columns):\n",
      " #   Column      Non-Null Count  Dtype \n",
      "---  ------      --------------  ----- \n",
      " 0   COMMENT_ID  446 non-null    object\n",
      " 1   AUTHOR      446 non-null    object\n",
      " 2   DATE        203 non-null    object\n",
      " 3   CONTENT     446 non-null    object\n",
      " 4   CLASS       446 non-null    int64 \n",
      "dtypes: int64(1), object(4)\n",
      "memory usage: 20.9+ KB\n"
     ]
    }
   ],
   "source": [
    "Eminem_df = pd.read_csv('data/Youtube04-Eminem.csv')\n",
    "Eminem_df.drop_duplicates(inplace=True)\n",
    "Eminem_df.info()"
   ],
   "metadata": {
    "collapsed": false,
    "ExecuteTime": {
     "start_time": "2023-04-27T23:20:48.510021Z",
     "end_time": "2023-04-27T23:20:48.795370Z"
    }
   }
  },
  {
   "cell_type": "code",
   "execution_count": 103,
   "outputs": [
    {
     "data": {
      "text/plain": "                            COMMENT_ID         AUTHOR   \n0    z12rwfnyyrbsefonb232i5ehdxzkjzjs2    Lisa Wellas  \\\n1  z130wpnwwnyuetxcn23xf5k5ynmkdpjrj04   jason graham   \n2    z13vsfqirtavjvu0t22ezrgzyorwxhpf3     Ajkal Khan   \n3  z12wjzc4eprnvja4304cgbbizuved35wxcs  Dakota Taylor   \n4    z13xjfr42z3uxdz2223gx5rrzs3dt5hna    Jihad Naser   \n\n                         DATE   \n0                         NaN  \\\n1  2015-05-29T02:26:10.652000   \n2                         NaN   \n3  2015-05-29T02:13:07.810000   \n4                         NaN   \n\n                                             CONTENT  CLASS  \n0          +447935454150 lovely girl talk to me xxx﻿      1  \n1    I always end up coming back to this song<br />﻿      0  \n2  my sister just received over 6,500 new <a rel=...      1  \n3                                              Cool﻿      0  \n4                     Hello I&#39;am from Palastine﻿      1  ",
      "text/html": "<div>\n<style scoped>\n    .dataframe tbody tr th:only-of-type {\n        vertical-align: middle;\n    }\n\n    .dataframe tbody tr th {\n        vertical-align: top;\n    }\n\n    .dataframe thead th {\n        text-align: right;\n    }\n</style>\n<table border=\"1\" class=\"dataframe\">\n  <thead>\n    <tr style=\"text-align: right;\">\n      <th></th>\n      <th>COMMENT_ID</th>\n      <th>AUTHOR</th>\n      <th>DATE</th>\n      <th>CONTENT</th>\n      <th>CLASS</th>\n    </tr>\n  </thead>\n  <tbody>\n    <tr>\n      <th>0</th>\n      <td>z12rwfnyyrbsefonb232i5ehdxzkjzjs2</td>\n      <td>Lisa Wellas</td>\n      <td>NaN</td>\n      <td>+447935454150 lovely girl talk to me xxx﻿</td>\n      <td>1</td>\n    </tr>\n    <tr>\n      <th>1</th>\n      <td>z130wpnwwnyuetxcn23xf5k5ynmkdpjrj04</td>\n      <td>jason graham</td>\n      <td>2015-05-29T02:26:10.652000</td>\n      <td>I always end up coming back to this song&lt;br /&gt;﻿</td>\n      <td>0</td>\n    </tr>\n    <tr>\n      <th>2</th>\n      <td>z13vsfqirtavjvu0t22ezrgzyorwxhpf3</td>\n      <td>Ajkal Khan</td>\n      <td>NaN</td>\n      <td>my sister just received over 6,500 new &lt;a rel=...</td>\n      <td>1</td>\n    </tr>\n    <tr>\n      <th>3</th>\n      <td>z12wjzc4eprnvja4304cgbbizuved35wxcs</td>\n      <td>Dakota Taylor</td>\n      <td>2015-05-29T02:13:07.810000</td>\n      <td>Cool﻿</td>\n      <td>0</td>\n    </tr>\n    <tr>\n      <th>4</th>\n      <td>z13xjfr42z3uxdz2223gx5rrzs3dt5hna</td>\n      <td>Jihad Naser</td>\n      <td>NaN</td>\n      <td>Hello I&amp;#39;am from Palastine﻿</td>\n      <td>1</td>\n    </tr>\n  </tbody>\n</table>\n</div>"
     },
     "execution_count": 103,
     "metadata": {},
     "output_type": "execute_result"
    }
   ],
   "source": [
    "Eminem_df.head()"
   ],
   "metadata": {
    "collapsed": false,
    "ExecuteTime": {
     "start_time": "2023-04-27T23:20:48.519336Z",
     "end_time": "2023-04-27T23:20:48.795464Z"
    }
   }
  },
  {
   "cell_type": "code",
   "execution_count": 104,
   "outputs": [
    {
     "data": {
      "text/plain": "          AUTHOR                        DATE   \n0    Lisa Wellas                         NaN  \\\n1   jason graham  2015-05-29T02:26:10.652000   \n2     Ajkal Khan                         NaN   \n3  Dakota Taylor  2015-05-29T02:13:07.810000   \n4    Jihad Naser                         NaN   \n\n                                             CONTENT  CLASS  \n0          +447935454150 lovely girl talk to me xxx﻿      1  \n1    I always end up coming back to this song<br />﻿      0  \n2  my sister just received over 6,500 new <a rel=...      1  \n3                                              Cool﻿      0  \n4                     Hello I&#39;am from Palastine﻿      1  ",
      "text/html": "<div>\n<style scoped>\n    .dataframe tbody tr th:only-of-type {\n        vertical-align: middle;\n    }\n\n    .dataframe tbody tr th {\n        vertical-align: top;\n    }\n\n    .dataframe thead th {\n        text-align: right;\n    }\n</style>\n<table border=\"1\" class=\"dataframe\">\n  <thead>\n    <tr style=\"text-align: right;\">\n      <th></th>\n      <th>AUTHOR</th>\n      <th>DATE</th>\n      <th>CONTENT</th>\n      <th>CLASS</th>\n    </tr>\n  </thead>\n  <tbody>\n    <tr>\n      <th>0</th>\n      <td>Lisa Wellas</td>\n      <td>NaN</td>\n      <td>+447935454150 lovely girl talk to me xxx﻿</td>\n      <td>1</td>\n    </tr>\n    <tr>\n      <th>1</th>\n      <td>jason graham</td>\n      <td>2015-05-29T02:26:10.652000</td>\n      <td>I always end up coming back to this song&lt;br /&gt;﻿</td>\n      <td>0</td>\n    </tr>\n    <tr>\n      <th>2</th>\n      <td>Ajkal Khan</td>\n      <td>NaN</td>\n      <td>my sister just received over 6,500 new &lt;a rel=...</td>\n      <td>1</td>\n    </tr>\n    <tr>\n      <th>3</th>\n      <td>Dakota Taylor</td>\n      <td>2015-05-29T02:13:07.810000</td>\n      <td>Cool﻿</td>\n      <td>0</td>\n    </tr>\n    <tr>\n      <th>4</th>\n      <td>Jihad Naser</td>\n      <td>NaN</td>\n      <td>Hello I&amp;#39;am from Palastine﻿</td>\n      <td>1</td>\n    </tr>\n  </tbody>\n</table>\n</div>"
     },
     "execution_count": 104,
     "metadata": {},
     "output_type": "execute_result"
    }
   ],
   "source": [
    "Eminem_df.drop('COMMENT_ID', axis=1, inplace=True)\n",
    "Eminem_df.head()"
   ],
   "metadata": {
    "collapsed": false,
    "ExecuteTime": {
     "start_time": "2023-04-27T23:20:48.529985Z",
     "end_time": "2023-04-27T23:20:48.795902Z"
    }
   }
  },
  {
   "cell_type": "code",
   "execution_count": 105,
   "outputs": [
    {
     "data": {
      "text/plain": "AUTHOR       0\nDATE       243\nCONTENT      0\nCLASS        0\ndtype: int64"
     },
     "execution_count": 105,
     "metadata": {},
     "output_type": "execute_result"
    }
   ],
   "source": [
    "Eminem_df.isnull().sum()"
   ],
   "metadata": {
    "collapsed": false,
    "ExecuteTime": {
     "start_time": "2023-04-27T23:20:48.534612Z",
     "end_time": "2023-04-27T23:20:48.796018Z"
    }
   }
  },
  {
   "cell_type": "code",
   "execution_count": 106,
   "outputs": [
    {
     "data": {
      "text/plain": "       AUTHOR                        DATE                            CONTENT   \ncount     446                         203                                446  \\\nunique    392                         203                                412   \ntop     M.E.S  2015-05-29T02:26:10.652000  Check out this video on YouTube:﻿   \nfreq        8                           1                                 19   \nmean      NaN                         NaN                                NaN   \nstd       NaN                         NaN                                NaN   \nmin       NaN                         NaN                                NaN   \n25%       NaN                         NaN                                NaN   \n50%       NaN                         NaN                                NaN   \n75%       NaN                         NaN                                NaN   \nmax       NaN                         NaN                                NaN   \n\n             CLASS  \ncount   446.000000  \nunique         NaN  \ntop            NaN  \nfreq           NaN  \nmean      0.544843  \nstd       0.498544  \nmin       0.000000  \n25%       0.000000  \n50%       1.000000  \n75%       1.000000  \nmax       1.000000  ",
      "text/html": "<div>\n<style scoped>\n    .dataframe tbody tr th:only-of-type {\n        vertical-align: middle;\n    }\n\n    .dataframe tbody tr th {\n        vertical-align: top;\n    }\n\n    .dataframe thead th {\n        text-align: right;\n    }\n</style>\n<table border=\"1\" class=\"dataframe\">\n  <thead>\n    <tr style=\"text-align: right;\">\n      <th></th>\n      <th>AUTHOR</th>\n      <th>DATE</th>\n      <th>CONTENT</th>\n      <th>CLASS</th>\n    </tr>\n  </thead>\n  <tbody>\n    <tr>\n      <th>count</th>\n      <td>446</td>\n      <td>203</td>\n      <td>446</td>\n      <td>446.000000</td>\n    </tr>\n    <tr>\n      <th>unique</th>\n      <td>392</td>\n      <td>203</td>\n      <td>412</td>\n      <td>NaN</td>\n    </tr>\n    <tr>\n      <th>top</th>\n      <td>M.E.S</td>\n      <td>2015-05-29T02:26:10.652000</td>\n      <td>Check out this video on YouTube:﻿</td>\n      <td>NaN</td>\n    </tr>\n    <tr>\n      <th>freq</th>\n      <td>8</td>\n      <td>1</td>\n      <td>19</td>\n      <td>NaN</td>\n    </tr>\n    <tr>\n      <th>mean</th>\n      <td>NaN</td>\n      <td>NaN</td>\n      <td>NaN</td>\n      <td>0.544843</td>\n    </tr>\n    <tr>\n      <th>std</th>\n      <td>NaN</td>\n      <td>NaN</td>\n      <td>NaN</td>\n      <td>0.498544</td>\n    </tr>\n    <tr>\n      <th>min</th>\n      <td>NaN</td>\n      <td>NaN</td>\n      <td>NaN</td>\n      <td>0.000000</td>\n    </tr>\n    <tr>\n      <th>25%</th>\n      <td>NaN</td>\n      <td>NaN</td>\n      <td>NaN</td>\n      <td>0.000000</td>\n    </tr>\n    <tr>\n      <th>50%</th>\n      <td>NaN</td>\n      <td>NaN</td>\n      <td>NaN</td>\n      <td>1.000000</td>\n    </tr>\n    <tr>\n      <th>75%</th>\n      <td>NaN</td>\n      <td>NaN</td>\n      <td>NaN</td>\n      <td>1.000000</td>\n    </tr>\n    <tr>\n      <th>max</th>\n      <td>NaN</td>\n      <td>NaN</td>\n      <td>NaN</td>\n      <td>1.000000</td>\n    </tr>\n  </tbody>\n</table>\n</div>"
     },
     "execution_count": 106,
     "metadata": {},
     "output_type": "execute_result"
    }
   ],
   "source": [
    "Eminem_df.describe(include='all')"
   ],
   "metadata": {
    "collapsed": false,
    "ExecuteTime": {
     "start_time": "2023-04-27T23:20:48.537786Z",
     "end_time": "2023-04-27T23:20:48.796102Z"
    }
   }
  },
  {
   "cell_type": "code",
   "execution_count": 107,
   "outputs": [
    {
     "name": "stderr",
     "output_type": "stream",
     "text": [
      "/tmp/ipykernel_13349/1133581632.py:8: UserWarning: Matplotlib is currently using module://matplotlib_inline.backend_inline, which is a non-GUI backend, so cannot show the figure.\n",
      "  fig.show()\n"
     ]
    },
    {
     "data": {
      "text/plain": "<Figure size 640x480 with 1 Axes>",
      "image/png": "[encoded data removed]"
     },
     "metadata": {},
     "output_type": "display_data"
    }
   ],
   "source": [
    "spam_cnt = Eminem_df[Eminem_df.CLASS == 1].shape[0]\n",
    "no_spam_cnt = Eminem_df[Eminem_df.CLASS == 0].shape[0]\n",
    "\n",
    "fig, ax = plt.subplots()\n",
    "ax.bar(['Spam', 'Non-spam'], [spam_cnt, no_spam_cnt], color=['r', 'g'])\n",
    "ax.set_title('Mean value')\n",
    "ax.set_ylabel('Count')\n",
    "fig.show()"
   ],
   "metadata": {
    "collapsed": false,
    "ExecuteTime": {
     "start_time": "2023-04-27T23:20:48.552391Z",
     "end_time": "2023-04-27T23:20:48.796894Z"
    }
   }
  },
  {
   "cell_type": "markdown",
   "source": [
    "#### 1.5. Shakira"
   ],
   "metadata": {
    "collapsed": false
   }
  },
  {
   "cell_type": "code",
   "execution_count": 108,
   "outputs": [
    {
     "name": "stdout",
     "output_type": "stream",
     "text": [
      "<class 'pandas.core.frame.DataFrame'>\n",
      "Index: 369 entries, 0 to 369\n",
      "Data columns (total 5 columns):\n",
      " #   Column      Non-Null Count  Dtype \n",
      "---  ------      --------------  ----- \n",
      " 0   COMMENT_ID  369 non-null    object\n",
      " 1   AUTHOR      369 non-null    object\n",
      " 2   DATE        369 non-null    object\n",
      " 3   CONTENT     369 non-null    object\n",
      " 4   CLASS       369 non-null    int64 \n",
      "dtypes: int64(1), object(4)\n",
      "memory usage: 17.3+ KB\n"
     ]
    }
   ],
   "source": [
    "Shakira_df = pd.read_csv('data/Youtube05-Shakira.csv')\n",
    "Shakira_df.drop_duplicates(inplace=True)\n",
    "Shakira_df.info()"
   ],
   "metadata": {
    "collapsed": false,
    "ExecuteTime": {
     "start_time": "2023-04-27T23:20:48.655115Z",
     "end_time": "2023-04-27T23:20:48.888542Z"
    }
   }
  },
  {
   "cell_type": "code",
   "execution_count": 109,
   "outputs": [
    {
     "data": {
      "text/plain": "                              COMMENT_ID                              AUTHOR   \n0    z13lgffb5w3ddx1ul22qy1wxspy5cpkz504                          dharma pal  \\\n1      z123dbgb0mqjfxbtz22ucjc5jvzcv3ykj                       Tiza Arellano   \n2  z12quxxp2vutflkxv04cihggzt2azl34pms0k  Prìñçeśś Âliś Łøvê Dømíñø Mâđiś™ ﻿   \n3      z12icv3ysqvlwth2c23eddlykyqut5z1h                       Eric Gonzalez   \n4      z133stly3kete3tly22petvwdpmghrlli                       Analena López   \n\n                         DATE   \n0  2015-05-29T02:30:18.971000  \\\n1  2015-05-29T00:14:48.748000   \n2  2015-05-28T21:00:08.607000   \n3  2015-05-28T20:47:12.193000   \n4  2015-05-28T17:08:29.827000   \n\n                                             CONTENT  CLASS  \n0                                         Nice song﻿      0  \n1                                      I love song ﻿      0  \n2                                      I love song ﻿      0  \n3  860,000,000 lets make it first female to reach...      0  \n4                      shakira is best for worldcup﻿      0  ",
      "text/html": "<div>\n<style scoped>\n    .dataframe tbody tr th:only-of-type {\n        vertical-align: middle;\n    }\n\n    .dataframe tbody tr th {\n        vertical-align: top;\n    }\n\n    .dataframe thead th {\n        text-align: right;\n    }\n</style>\n<table border=\"1\" class=\"dataframe\">\n  <thead>\n    <tr style=\"text-align: right;\">\n      <th></th>\n      <th>COMMENT_ID</th>\n      <th>AUTHOR</th>\n      <th>DATE</th>\n      <th>CONTENT</th>\n      <th>CLASS</th>\n    </tr>\n  </thead>\n  <tbody>\n    <tr>\n      <th>0</th>\n      <td>z13lgffb5w3ddx1ul22qy1wxspy5cpkz504</td>\n      <td>dharma pal</td>\n      <td>2015-05-29T02:30:18.971000</td>\n      <td>Nice song﻿</td>\n      <td>0</td>\n    </tr>\n    <tr>\n      <th>1</th>\n      <td>z123dbgb0mqjfxbtz22ucjc5jvzcv3ykj</td>\n      <td>Tiza Arellano</td>\n      <td>2015-05-29T00:14:48.748000</td>\n      <td>I love song ﻿</td>\n      <td>0</td>\n    </tr>\n    <tr>\n      <th>2</th>\n      <td>z12quxxp2vutflkxv04cihggzt2azl34pms0k</td>\n      <td>Prìñçeśś Âliś Łøvê Dømíñø Mâđiś™ ﻿</td>\n      <td>2015-05-28T21:00:08.607000</td>\n      <td>I love song ﻿</td>\n      <td>0</td>\n    </tr>\n    <tr>\n      <th>3</th>\n      <td>z12icv3ysqvlwth2c23eddlykyqut5z1h</td>\n      <td>Eric Gonzalez</td>\n      <td>2015-05-28T20:47:12.193000</td>\n      <td>860,000,000 lets make it first female to reach...</td>\n      <td>0</td>\n    </tr>\n    <tr>\n      <th>4</th>\n      <td>z133stly3kete3tly22petvwdpmghrlli</td>\n      <td>Analena López</td>\n      <td>2015-05-28T17:08:29.827000</td>\n      <td>shakira is best for worldcup﻿</td>\n      <td>0</td>\n    </tr>\n  </tbody>\n</table>\n</div>"
     },
     "execution_count": 109,
     "metadata": {},
     "output_type": "execute_result"
    }
   ],
   "source": [
    "Shakira_df.head()"
   ],
   "metadata": {
    "collapsed": false,
    "ExecuteTime": {
     "start_time": "2023-04-27T23:20:48.671629Z",
     "end_time": "2023-04-27T23:20:48.888925Z"
    }
   }
  },
  {
   "cell_type": "code",
   "execution_count": 110,
   "outputs": [
    {
     "data": {
      "text/plain": "                               AUTHOR                        DATE   \n0                          dharma pal  2015-05-29T02:30:18.971000  \\\n1                       Tiza Arellano  2015-05-29T00:14:48.748000   \n2  Prìñçeśś Âliś Łøvê Dømíñø Mâđiś™ ﻿  2015-05-28T21:00:08.607000   \n3                       Eric Gonzalez  2015-05-28T20:47:12.193000   \n4                       Analena López  2015-05-28T17:08:29.827000   \n\n                                             CONTENT  CLASS  \n0                                         Nice song﻿      0  \n1                                      I love song ﻿      0  \n2                                      I love song ﻿      0  \n3  860,000,000 lets make it first female to reach...      0  \n4                      shakira is best for worldcup﻿      0  ",
      "text/html": "<div>\n<style scoped>\n    .dataframe tbody tr th:only-of-type {\n        vertical-align: middle;\n    }\n\n    .dataframe tbody tr th {\n        vertical-align: top;\n    }\n\n    .dataframe thead th {\n        text-align: right;\n    }\n</style>\n<table border=\"1\" class=\"dataframe\">\n  <thead>\n    <tr style=\"text-align: right;\">\n      <th></th>\n      <th>AUTHOR</th>\n      <th>DATE</th>\n      <th>CONTENT</th>\n      <th>CLASS</th>\n    </tr>\n  </thead>\n  <tbody>\n    <tr>\n      <th>0</th>\n      <td>dharma pal</td>\n      <td>2015-05-29T02:30:18.971000</td>\n      <td>Nice song﻿</td>\n      <td>0</td>\n    </tr>\n    <tr>\n      <th>1</th>\n      <td>Tiza Arellano</td>\n      <td>2015-05-29T00:14:48.748000</td>\n      <td>I love song ﻿</td>\n      <td>0</td>\n    </tr>\n    <tr>\n      <th>2</th>\n      <td>Prìñçeśś Âliś Łøvê Dømíñø Mâđiś™ ﻿</td>\n      <td>2015-05-28T21:00:08.607000</td>\n      <td>I love song ﻿</td>\n      <td>0</td>\n    </tr>\n    <tr>\n      <th>3</th>\n      <td>Eric Gonzalez</td>\n      <td>2015-05-28T20:47:12.193000</td>\n      <td>860,000,000 lets make it first female to reach...</td>\n      <td>0</td>\n    </tr>\n    <tr>\n      <th>4</th>\n      <td>Analena López</td>\n      <td>2015-05-28T17:08:29.827000</td>\n      <td>shakira is best for worldcup﻿</td>\n      <td>0</td>\n    </tr>\n  </tbody>\n</table>\n</div>"
     },
     "execution_count": 110,
     "metadata": {},
     "output_type": "execute_result"
    }
   ],
   "source": [
    "Shakira_df.drop('COMMENT_ID', axis=1, inplace=True)\n",
    "Shakira_df.head()"
   ],
   "metadata": {
    "collapsed": false,
    "ExecuteTime": {
     "start_time": "2023-04-27T23:20:48.685808Z",
     "end_time": "2023-04-27T23:20:48.889073Z"
    }
   }
  },
  {
   "cell_type": "code",
   "execution_count": 111,
   "outputs": [
    {
     "data": {
      "text/plain": "AUTHOR     0\nDATE       0\nCONTENT    0\nCLASS      0\ndtype: int64"
     },
     "execution_count": 111,
     "metadata": {},
     "output_type": "execute_result"
    }
   ],
   "source": [
    "Shakira_df.isnull().sum()"
   ],
   "metadata": {
    "collapsed": false,
    "ExecuteTime": {
     "start_time": "2023-04-27T23:20:48.692019Z",
     "end_time": "2023-04-27T23:20:48.889200Z"
    }
   }
  },
  {
   "cell_type": "code",
   "execution_count": 112,
   "outputs": [
    {
     "data": {
      "text/plain": "          AUTHOR                        DATE CONTENT       CLASS\ncount        369                         369     369  369.000000\nunique       319                         369     331         NaN\ntop     5000palo  2015-05-29T02:30:18.971000     wow         NaN\nfreq           7                           1       4         NaN\nmean         NaN                         NaN     NaN    0.471545\nstd          NaN                         NaN     NaN    0.499867\nmin          NaN                         NaN     NaN    0.000000\n25%          NaN                         NaN     NaN    0.000000\n50%          NaN                         NaN     NaN    0.000000\n75%          NaN                         NaN     NaN    1.000000\nmax          NaN                         NaN     NaN    1.000000",
      "text/html": "<div>\n<style scoped>\n    .dataframe tbody tr th:only-of-type {\n        vertical-align: middle;\n    }\n\n    .dataframe tbody tr th {\n        vertical-align: top;\n    }\n\n    .dataframe thead th {\n        text-align: right;\n    }\n</style>\n<table border=\"1\" class=\"dataframe\">\n  <thead>\n    <tr style=\"text-align: right;\">\n      <th></th>\n      <th>AUTHOR</th>\n      <th>DATE</th>\n      <th>CONTENT</th>\n      <th>CLASS</th>\n    </tr>\n  </thead>\n  <tbody>\n    <tr>\n      <th>count</th>\n      <td>369</td>\n      <td>369</td>\n      <td>369</td>\n      <td>369.000000</td>\n    </tr>\n    <tr>\n      <th>unique</th>\n      <td>319</td>\n      <td>369</td>\n      <td>331</td>\n      <td>NaN</td>\n    </tr>\n    <tr>\n      <th>top</th>\n      <td>5000palo</td>\n      <td>2015-05-29T02:30:18.971000</td>\n      <td>wow</td>\n      <td>NaN</td>\n    </tr>\n    <tr>\n      <th>freq</th>\n      <td>7</td>\n      <td>1</td>\n      <td>4</td>\n      <td>NaN</td>\n    </tr>\n    <tr>\n      <th>mean</th>\n      <td>NaN</td>\n      <td>NaN</td>\n      <td>NaN</td>\n      <td>0.471545</td>\n    </tr>\n    <tr>\n      <th>std</th>\n      <td>NaN</td>\n      <td>NaN</td>\n      <td>NaN</td>\n      <td>0.499867</td>\n    </tr>\n    <tr>\n      <th>min</th>\n      <td>NaN</td>\n      <td>NaN</td>\n      <td>NaN</td>\n      <td>0.000000</td>\n    </tr>\n    <tr>\n      <th>25%</th>\n      <td>NaN</td>\n      <td>NaN</td>\n      <td>NaN</td>\n      <td>0.000000</td>\n    </tr>\n    <tr>\n      <th>50%</th>\n      <td>NaN</td>\n      <td>NaN</td>\n      <td>NaN</td>\n      <td>0.000000</td>\n    </tr>\n    <tr>\n      <th>75%</th>\n      <td>NaN</td>\n      <td>NaN</td>\n      <td>NaN</td>\n      <td>1.000000</td>\n    </tr>\n    <tr>\n      <th>max</th>\n      <td>NaN</td>\n      <td>NaN</td>\n      <td>NaN</td>\n      <td>1.000000</td>\n    </tr>\n  </tbody>\n</table>\n</div>"
     },
     "execution_count": 112,
     "metadata": {},
     "output_type": "execute_result"
    }
   ],
   "source": [
    "Shakira_df.describe(include='all')"
   ],
   "metadata": {
    "collapsed": false,
    "ExecuteTime": {
     "start_time": "2023-04-27T23:20:48.696995Z",
     "end_time": "2023-04-27T23:20:48.889386Z"
    }
   }
  },
  {
   "cell_type": "code",
   "execution_count": 113,
   "outputs": [
    {
     "name": "stderr",
     "output_type": "stream",
     "text": [
      "/tmp/ipykernel_13349/2686406925.py:8: UserWarning: Matplotlib is currently using module://matplotlib_inline.backend_inline, which is a non-GUI backend, so cannot show the figure.\n",
      "  fig.show()\n"
     ]
    },
    {
     "data": {
      "text/plain": "<Figure size 640x480 with 1 Axes>",
      "image/png": "[encoded data removed]"
     },
     "metadata": {},
     "output_type": "display_data"
    }
   ],
   "source": [
    "spam_cnt = Shakira_df[Shakira_df.CLASS == 1].shape[0]\n",
    "no_spam_cnt = Shakira_df[Shakira_df.CLASS == 0].shape[0]\n",
    "\n",
    "fig, ax = plt.subplots()\n",
    "ax.bar(['Spam', 'Non-spam'], [spam_cnt, no_spam_cnt], color=['r', 'g'])\n",
    "ax.set_title('Mean value')\n",
    "ax.set_ylabel('Count')\n",
    "fig.show()"
   ],
   "metadata": {
    "collapsed": false,
    "ExecuteTime": {
     "start_time": "2023-04-27T23:20:48.731405Z",
     "end_time": "2023-04-27T23:20:49.146234Z"
    }
   }
  },
  {
   "cell_type": "markdown",
   "source": [
    "#### 1. Выводы: Во всех пяти табличках структура одинакова, данных немного ~400 записей.\n",
    "#### * COMMENT_ID - не информативен.\n",
    "#### * DATE и AUTHOR можно рассмотреть для пущего результату.\n",
    "#### * CONTENT - основной признак для работы.\n",
    "#### // DATE в Eminem пропущены 50%, можно сгенерировать средние на основе объединения.\n",
    "#### Объединяем все таблички в одну. Будем работать со всеми данными."
   ],
   "metadata": {
    "collapsed": false
   }
  },
  {
   "cell_type": "markdown",
   "source": [
    "### 2. Merge full data"
   ],
   "metadata": {
    "collapsed": false
   }
  },
  {
   "cell_type": "code",
   "execution_count": 114,
   "outputs": [
    {
     "name": "stdout",
     "output_type": "stream",
     "text": [
      "<class 'pandas.core.frame.DataFrame'>\n",
      "RangeIndex: 1953 entries, 0 to 1952\n",
      "Data columns (total 4 columns):\n",
      " #   Column   Non-Null Count  Dtype \n",
      "---  ------   --------------  ----- \n",
      " 0   AUTHOR   1953 non-null   object\n",
      " 1   DATE     1710 non-null   object\n",
      " 2   CONTENT  1953 non-null   object\n",
      " 3   CLASS    1953 non-null   int64 \n",
      "dtypes: int64(1), object(3)\n",
      "memory usage: 61.2+ KB\n"
     ]
    }
   ],
   "source": [
    "df = pd.concat([Psy_df, KatyPerry_df, LMFAO_df, Eminem_df, Shakira_df], ignore_index=True, verify_integrity=True)\n",
    "df.info()"
   ],
   "metadata": {
    "collapsed": false,
    "ExecuteTime": {
     "start_time": "2023-04-27T23:20:48.874979Z",
     "end_time": "2023-04-27T23:20:49.149691Z"
    }
   }
  },
  {
   "cell_type": "code",
   "execution_count": 115,
   "outputs": [
    {
     "data": {
      "text/plain": "             AUTHOR                 DATE   \n0         Julius NM  2013-11-07T06:20:48  \\\n1       adam riyati  2013-11-07T12:37:15   \n2  Evgeny Murashkin  2013-11-08T17:34:21   \n3   ElNino Melendez  2013-11-09T08:28:43   \n4            GsMega  2013-11-10T16:05:38   \n\n                                             CONTENT  CLASS  \n0  Huh, anyway check out this you[tube] channel: ...      1  \n1  Hey guys check out my new channel and our firs...      1  \n2             just for test I have to say murdev.com      1  \n3   me shaking my sexy ass on my channel enjoy ^_^ ﻿      1  \n4            watch?v=vtaRGgvGtWQ   Check this out .﻿      1  ",
      "text/html": "<div>\n<style scoped>\n    .dataframe tbody tr th:only-of-type {\n        vertical-align: middle;\n    }\n\n    .dataframe tbody tr th {\n        vertical-align: top;\n    }\n\n    .dataframe thead th {\n        text-align: right;\n    }\n</style>\n<table border=\"1\" class=\"dataframe\">\n  <thead>\n    <tr style=\"text-align: right;\">\n      <th></th>\n      <th>AUTHOR</th>\n      <th>DATE</th>\n      <th>CONTENT</th>\n      <th>CLASS</th>\n    </tr>\n  </thead>\n  <tbody>\n    <tr>\n      <th>0</th>\n      <td>Julius NM</td>\n      <td>2013-11-07T06:20:48</td>\n      <td>Huh, anyway check out this you[tube] channel: ...</td>\n      <td>1</td>\n    </tr>\n    <tr>\n      <th>1</th>\n      <td>adam riyati</td>\n      <td>2013-11-07T12:37:15</td>\n      <td>Hey guys check out my new channel and our firs...</td>\n      <td>1</td>\n    </tr>\n    <tr>\n      <th>2</th>\n      <td>Evgeny Murashkin</td>\n      <td>2013-11-08T17:34:21</td>\n      <td>just for test I have to say murdev.com</td>\n      <td>1</td>\n    </tr>\n    <tr>\n      <th>3</th>\n      <td>ElNino Melendez</td>\n      <td>2013-11-09T08:28:43</td>\n      <td>me shaking my sexy ass on my channel enjoy ^_^ ﻿</td>\n      <td>1</td>\n    </tr>\n    <tr>\n      <th>4</th>\n      <td>GsMega</td>\n      <td>2013-11-10T16:05:38</td>\n      <td>watch?v=vtaRGgvGtWQ   Check this out .﻿</td>\n      <td>1</td>\n    </tr>\n  </tbody>\n</table>\n</div>"
     },
     "execution_count": 115,
     "metadata": {},
     "output_type": "execute_result"
    }
   ],
   "source": [
    "df.head()"
   ],
   "metadata": {
    "collapsed": false,
    "ExecuteTime": {
     "start_time": "2023-04-27T23:20:48.887545Z",
     "end_time": "2023-04-27T23:20:49.170299Z"
    }
   }
  },
  {
   "cell_type": "code",
   "execution_count": 116,
   "outputs": [
    {
     "data": {
      "text/plain": "       AUTHOR    DATE                            CONTENT        CLASS\ncount    1953  1953.0                               1953  1953.000000\nunique   1792  1710.0                               1760          NaN\ntop     M.E.S     0.0  Check out this video on YouTube:﻿          NaN\nfreq        8   243.0                                 97          NaN\nmean      NaN     NaN                                NaN     0.513569\nstd       NaN     NaN                                NaN     0.499944\nmin       NaN     NaN                                NaN     0.000000\n25%       NaN     NaN                                NaN     0.000000\n50%       NaN     NaN                                NaN     1.000000\n75%       NaN     NaN                                NaN     1.000000\nmax       NaN     NaN                                NaN     1.000000",
      "text/html": "<div>\n<style scoped>\n    .dataframe tbody tr th:only-of-type {\n        vertical-align: middle;\n    }\n\n    .dataframe tbody tr th {\n        vertical-align: top;\n    }\n\n    .dataframe thead th {\n        text-align: right;\n    }\n</style>\n<table border=\"1\" class=\"dataframe\">\n  <thead>\n    <tr style=\"text-align: right;\">\n      <th></th>\n      <th>AUTHOR</th>\n      <th>DATE</th>\n      <th>CONTENT</th>\n      <th>CLASS</th>\n    </tr>\n  </thead>\n  <tbody>\n    <tr>\n      <th>count</th>\n      <td>1953</td>\n      <td>1953.0</td>\n      <td>1953</td>\n      <td>1953.000000</td>\n    </tr>\n    <tr>\n      <th>unique</th>\n      <td>1792</td>\n      <td>1710.0</td>\n      <td>1760</td>\n      <td>NaN</td>\n    </tr>\n    <tr>\n      <th>top</th>\n      <td>M.E.S</td>\n      <td>0.0</td>\n      <td>Check out this video on YouTube:﻿</td>\n      <td>NaN</td>\n    </tr>\n    <tr>\n      <th>freq</th>\n      <td>8</td>\n      <td>243.0</td>\n      <td>97</td>\n      <td>NaN</td>\n    </tr>\n    <tr>\n      <th>mean</th>\n      <td>NaN</td>\n      <td>NaN</td>\n      <td>NaN</td>\n      <td>0.513569</td>\n    </tr>\n    <tr>\n      <th>std</th>\n      <td>NaN</td>\n      <td>NaN</td>\n      <td>NaN</td>\n      <td>0.499944</td>\n    </tr>\n    <tr>\n      <th>min</th>\n      <td>NaN</td>\n      <td>NaN</td>\n      <td>NaN</td>\n      <td>0.000000</td>\n    </tr>\n    <tr>\n      <th>25%</th>\n      <td>NaN</td>\n      <td>NaN</td>\n      <td>NaN</td>\n      <td>0.000000</td>\n    </tr>\n    <tr>\n      <th>50%</th>\n      <td>NaN</td>\n      <td>NaN</td>\n      <td>NaN</td>\n      <td>1.000000</td>\n    </tr>\n    <tr>\n      <th>75%</th>\n      <td>NaN</td>\n      <td>NaN</td>\n      <td>NaN</td>\n      <td>1.000000</td>\n    </tr>\n    <tr>\n      <th>max</th>\n      <td>NaN</td>\n      <td>NaN</td>\n      <td>NaN</td>\n      <td>1.000000</td>\n    </tr>\n  </tbody>\n</table>\n</div>"
     },
     "execution_count": 116,
     "metadata": {},
     "output_type": "execute_result"
    }
   ],
   "source": [
    "df = df.fillna(0)\n",
    "df.describe(include='all')"
   ],
   "metadata": {
    "collapsed": false,
    "ExecuteTime": {
     "start_time": "2023-04-27T23:20:48.892781Z",
     "end_time": "2023-04-27T23:20:49.182850Z"
    }
   }
  },
  {
   "cell_type": "code",
   "execution_count": 117,
   "outputs": [
    {
     "data": {
      "text/plain": "AUTHOR     0\nDATE       0\nCONTENT    0\nCLASS      0\ndtype: int64"
     },
     "execution_count": 117,
     "metadata": {},
     "output_type": "execute_result"
    }
   ],
   "source": [
    "df.isna().sum()"
   ],
   "metadata": {
    "collapsed": false,
    "ExecuteTime": {
     "start_time": "2023-04-27T23:20:48.908324Z",
     "end_time": "2023-04-27T23:20:49.182975Z"
    }
   }
  },
  {
   "cell_type": "code",
   "execution_count": 118,
   "outputs": [
    {
     "name": "stderr",
     "output_type": "stream",
     "text": [
      "/tmp/ipykernel_13349/703867426.py:8: UserWarning: Matplotlib is currently using module://matplotlib_inline.backend_inline, which is a non-GUI backend, so cannot show the figure.\n",
      "  fig.show()\n"
     ]
    },
    {
     "data": {
      "text/plain": "<Figure size 640x480 with 1 Axes>",
      "image/png": "[encoded data removed]"
     },
     "metadata": {},
     "output_type": "display_data"
    }
   ],
   "source": [
    "spam_cnt = df[df.CLASS == 1].shape[0]\n",
    "no_spam_cnt = df[df.CLASS == 0].shape[0]\n",
    "\n",
    "fig, ax = plt.subplots()\n",
    "ax.bar(['Spam', 'Non-spam'], [spam_cnt, no_spam_cnt], color=['r', 'g'])\n",
    "ax.set_title('Mean value')\n",
    "ax.set_ylabel('Count')\n",
    "fig.show()"
   ],
   "metadata": {
    "collapsed": false,
    "ExecuteTime": {
     "start_time": "2023-04-27T23:20:48.915476Z",
     "end_time": "2023-04-27T23:20:49.274819Z"
    }
   }
  },
  {
   "cell_type": "markdown",
   "source": [
    "#### Выводы: данные представлены хорошо, дизбаланса нет"
   ],
   "metadata": {
    "collapsed": false
   }
  },
  {
   "cell_type": "markdown",
   "source": [
    "### 3. Model preparation"
   ],
   "metadata": {
    "collapsed": false
   }
  },
  {
   "cell_type": "code",
   "execution_count": 119,
   "outputs": [],
   "source": [
    "X = df.CONTENT\n",
    "Y = df.CLASS\n",
    "X_train, X_test, Y_train, Y_test = train_test_split(X, Y, train_size=0.8, test_size=0.2)"
   ],
   "metadata": {
    "collapsed": false,
    "ExecuteTime": {
     "start_time": "2023-04-27T23:20:49.032487Z",
     "end_time": "2023-04-27T23:20:49.320685Z"
    }
   }
  },
  {
   "cell_type": "code",
   "execution_count": 120,
   "outputs": [
    {
     "name": "stdout",
     "output_type": "stream",
     "text": [
      "(1562,)\n",
      "(391,)\n",
      "(1562,)\n",
      "(391,)\n"
     ]
    }
   ],
   "source": [
    "print(X_train.shape)\n",
    "print(X_test.shape)\n",
    "print(Y_train.shape)\n",
    "print(Y_test.shape)"
   ],
   "metadata": {
    "collapsed": false,
    "ExecuteTime": {
     "start_time": "2023-04-27T23:20:49.036826Z",
     "end_time": "2023-04-27T23:20:49.320955Z"
    }
   }
  },
  {
   "cell_type": "markdown",
   "source": [
    "Преобразование коллекции текстовых документов(значений CONTENT(комментария)) в матрицу признаков на основе частотности слов в документах. Документ - клеточка CONTEXT."
   ],
   "metadata": {
    "collapsed": false
   }
  },
  {
   "cell_type": "code",
   "execution_count": 121,
   "outputs": [],
   "source": [
    "count_vec = CountVectorizer(stop_words=\"english\",lowercase=True, analyzer='word')"
   ],
   "metadata": {
    "collapsed": false,
    "ExecuteTime": {
     "start_time": "2023-04-27T23:20:49.039633Z",
     "end_time": "2023-04-27T23:20:49.329419Z"
    }
   }
  },
  {
   "cell_type": "code",
   "execution_count": 122,
   "outputs": [
    {
     "data": {
      "text/plain": "CountVectorizer(stop_words='english')",
      "text/html": "<style>#sk-container-id-3 {color: black;background-color: white;}#sk-container-id-3 pre{padding: 0;}#sk-container-id-3 div.sk-toggleable {background-color: white;}#sk-container-id-3 label.sk-toggleable__label {cursor: pointer;display: block;width: 100%;margin-bottom: 0;padding: 0.3em;box-sizing: border-box;text-align: center;}#sk-container-id-3 label.sk-toggleable__label-arrow:before {content: \"▸\";float: left;margin-right: 0.25em;color: #696969;}#sk-container-id-3 label.sk-toggleable__label-arrow:hover:before {color: black;}#sk-container-id-3 div.sk-estimator:hover label.sk-toggleable__label-arrow:before {color: black;}#sk-container-id-3 div.sk-toggleable__content {max-height: 0;max-width: 0;overflow: hidden;text-align: left;background-color: #f0f8ff;}#sk-container-id-3 div.sk-toggleable__content pre {margin: 0.2em;color: black;border-radius: 0.25em;background-color: #f0f8ff;}#sk-container-id-3 input.sk-toggleable__control:checked~div.sk-toggleable__content {max-height: 200px;max-width: 100%;overflow: auto;}#sk-container-id-3 input.sk-toggleable__control:checked~label.sk-toggleable__label-arrow:before {content: \"▾\";}#sk-container-id-3 div.sk-estimator input.sk-toggleable__control:checked~label.sk-toggleable__label {background-color: #d4ebff;}#sk-container-id-3 div.sk-label input.sk-toggleable__control:checked~label.sk-toggleable__label {background-color: #d4ebff;}#sk-container-id-3 input.sk-hidden--visually {border: 0;clip: rect(1px 1px 1px 1px);clip: rect(1px, 1px, 1px, 1px);height: 1px;margin: -1px;overflow: hidden;padding: 0;position: absolute;width: 1px;}#sk-container-id-3 div.sk-estimator {font-family: monospace;background-color: #f0f8ff;border: 1px dotted black;border-radius: 0.25em;box-sizing: border-box;margin-bottom: 0.5em;}#sk-container-id-3 div.sk-estimator:hover {background-color: #d4ebff;}#sk-container-id-3 div.sk-parallel-item::after {content: \"\";width: 100%;border-bottom: 1px solid gray;flex-grow: 1;}#sk-container-id-3 div.sk-label:hover label.sk-toggleable__label {background-color: #d4ebff;}#sk-container-id-3 div.sk-serial::before {content: \"\";position: absolute;border-left: 1px solid gray;box-sizing: border-box;top: 0;bottom: 0;left: 50%;z-index: 0;}#sk-container-id-3 div.sk-serial {display: flex;flex-direction: column;align-items: center;background-color: white;padding-right: 0.2em;padding-left: 0.2em;position: relative;}#sk-container-id-3 div.sk-item {position: relative;z-index: 1;}#sk-container-id-3 div.sk-parallel {display: flex;align-items: stretch;justify-content: center;background-color: white;position: relative;}#sk-container-id-3 div.sk-item::before, #sk-container-id-3 div.sk-parallel-item::before {content: \"\";position: absolute;border-left: 1px solid gray;box-sizing: border-box;top: 0;bottom: 0;left: 50%;z-index: -1;}#sk-container-id-3 div.sk-parallel-item {display: flex;flex-direction: column;z-index: 1;position: relative;background-color: white;}#sk-container-id-3 div.sk-parallel-item:first-child::after {align-self: flex-end;width: 50%;}#sk-container-id-3 div.sk-parallel-item:last-child::after {align-self: flex-start;width: 50%;}#sk-container-id-3 div.sk-parallel-item:only-child::after {width: 0;}#sk-container-id-3 div.sk-dashed-wrapped {border: 1px dashed gray;margin: 0 0.4em 0.5em 0.4em;box-sizing: border-box;padding-bottom: 0.4em;background-color: white;}#sk-container-id-3 div.sk-label label {font-family: monospace;font-weight: bold;display: inline-block;line-height: 1.2em;}#sk-container-id-3 div.sk-label-container {text-align: center;}#sk-container-id-3 div.sk-container {/* jupyter's `normalize.less` sets `[hidden] { display: none; }` but bootstrap.min.css set `[hidden] { display: none !important; }` so we also need the `!important` here to be able to override the default hidden behavior on the sphinx rendered scikit-learn.org. See: https://github.com/scikit-learn/scikit-learn/issues/21755 */display: inline-block !important;position: relative;}#sk-container-id-3 div.sk-text-repr-fallback {display: none;}</style><div id=\"sk-container-id-3\" class=\"sk-top-container\"><div class=\"sk-text-repr-fallback\"><pre>CountVectorizer(stop_words=&#x27;english&#x27;)</pre><b>In a Jupyter environment, please rerun this cell to show the HTML representation or trust the notebook. <br />On GitHub, the HTML representation is unable to render, please try loading this page with nbviewer.org.</b></div><div class=\"sk-container\" hidden><div class=\"sk-item\"><div class=\"sk-estimator sk-toggleable\"><input class=\"sk-toggleable__control sk-hidden--visually\" id=\"sk-estimator-id-3\" type=\"checkbox\" checked><label for=\"sk-estimator-id-3\" class=\"sk-toggleable__label sk-toggleable__label-arrow\">CountVectorizer</label><div class=\"sk-toggleable__content\"><pre>CountVectorizer(stop_words=&#x27;english&#x27;)</pre></div></div></div></div></div>"
     },
     "execution_count": 122,
     "metadata": {},
     "output_type": "execute_result"
    }
   ],
   "source": [
    "count_vec.fit(X_train)"
   ],
   "metadata": {
    "collapsed": false,
    "ExecuteTime": {
     "start_time": "2023-04-27T23:20:49.053829Z",
     "end_time": "2023-04-27T23:20:49.329858Z"
    }
   }
  },
  {
   "cell_type": "code",
   "execution_count": 123,
   "outputs": [
    {
     "data": {
      "text/plain": "array(['00', '000', '002', ..., 'ｔｈｉｓ', 'ｕｓｒ', 'ｗｗｗ'], dtype=object)"
     },
     "execution_count": 123,
     "metadata": {},
     "output_type": "execute_result"
    }
   ],
   "source": [
    "count_vec.get_feature_names_out()"
   ],
   "metadata": {
    "collapsed": false,
    "ExecuteTime": {
     "start_time": "2023-04-27T23:20:49.069075Z",
     "end_time": "2023-04-27T23:20:49.330010Z"
    }
   }
  },
  {
   "cell_type": "markdown",
   "source": [
    "создание матрицы признаков, где\n",
    "строка - 1 документ,\n",
    "столбец - одно слово из набора документов\n",
    "значение ячейки - количество вхождений слова в этот документ"
   ],
   "metadata": {
    "collapsed": false
   }
  },
  {
   "cell_type": "code",
   "execution_count": 124,
   "outputs": [
    {
     "data": {
      "text/plain": "<1562x3672 sparse matrix of type '<class 'numpy.int64'>'\n\twith 12527 stored elements in Compressed Sparse Row format>"
     },
     "execution_count": 124,
     "metadata": {},
     "output_type": "execute_result"
    }
   ],
   "source": [
    "X_train_cVec = count_vec.fit_transform(X_train)\n",
    "X_train_cVec"
   ],
   "metadata": {
    "collapsed": false,
    "ExecuteTime": {
     "start_time": "2023-04-27T23:20:49.087433Z",
     "end_time": "2023-04-27T23:20:49.367946Z"
    }
   }
  },
  {
   "cell_type": "code",
   "execution_count": 125,
   "outputs": [
    {
     "name": "stdout",
     "output_type": "stream",
     "text": [
      "  (0, 1569)\t1\n",
      "  (0, 779)\t2\n",
      "  (0, 1272)\t1\n",
      "  (0, 3517)\t1\n",
      "  (0, 713)\t1\n",
      "  (0, 2231)\t3\n",
      "  (0, 841)\t3\n",
      "  (0, 2109)\t1\n",
      "  (0, 2230)\t1\n",
      "  (0, 2399)\t1\n",
      "  (0, 3076)\t1\n",
      "  (0, 3581)\t1\n",
      "  (0, 1663)\t1\n",
      "  (0, 3277)\t1\n",
      "  (0, 2113)\t1\n",
      "  (0, 1)\t1\n",
      "  (0, 2237)\t1\n",
      "  (0, 3455)\t1\n",
      "  (0, 3513)\t1\n",
      "  (0, 1766)\t2\n",
      "  (0, 2883)\t1\n",
      "  (0, 3552)\t1\n",
      "  (0, 3224)\t1\n",
      "  (0, 2414)\t1\n",
      "  (0, 1700)\t1\n",
      "  :\t:\n",
      "  (1561, 1098)\t1\n",
      "  (1561, 3299)\t1\n",
      "  (1561, 2008)\t1\n",
      "  (1561, 3625)\t1\n",
      "  (1561, 2732)\t1\n",
      "  (1561, 2614)\t1\n",
      "  (1561, 3419)\t1\n",
      "  (1561, 2673)\t1\n",
      "  (1561, 1305)\t1\n",
      "  (1561, 2765)\t1\n",
      "  (1561, 470)\t1\n",
      "  (1561, 63)\t1\n",
      "  (1561, 2211)\t1\n",
      "  (1561, 2167)\t1\n",
      "  (1561, 3229)\t1\n",
      "  (1561, 2544)\t1\n",
      "  (1561, 1063)\t1\n",
      "  (1561, 3244)\t1\n",
      "  (1561, 1941)\t1\n",
      "  (1561, 175)\t1\n",
      "  (1561, 3202)\t1\n",
      "  (1561, 942)\t1\n",
      "  (1561, 489)\t1\n",
      "  (1561, 734)\t1\n",
      "  (1561, 1976)\t1\n"
     ]
    }
   ],
   "source": [
    "print(X_train_cVec)"
   ],
   "metadata": {
    "collapsed": false,
    "ExecuteTime": {
     "start_time": "2023-04-27T23:20:49.096511Z",
     "end_time": "2023-04-27T23:20:49.368268Z"
    }
   }
  },
  {
   "cell_type": "code",
   "execution_count": 126,
   "outputs": [
    {
     "data": {
      "text/plain": "<391x3672 sparse matrix of type '<class 'numpy.int64'>'\n\twith 2569 stored elements in Compressed Sparse Row format>"
     },
     "execution_count": 126,
     "metadata": {},
     "output_type": "execute_result"
    }
   ],
   "source": [
    "X_test_cVec = count_vec.transform(X_test)\n",
    "X_test_cVec"
   ],
   "metadata": {
    "collapsed": false,
    "ExecuteTime": {
     "start_time": "2023-04-27T23:20:49.104766Z",
     "end_time": "2023-04-27T23:20:49.368382Z"
    }
   }
  },
  {
   "cell_type": "markdown",
   "source": [
    "### 4. Naive Bayes"
   ],
   "metadata": {
    "collapsed": false
   }
  },
  {
   "cell_type": "code",
   "execution_count": 127,
   "outputs": [],
   "source": [
    "nb_model = MultinomialNB()"
   ],
   "metadata": {
    "collapsed": false,
    "ExecuteTime": {
     "start_time": "2023-04-27T23:20:49.108192Z",
     "end_time": "2023-04-27T23:20:49.368421Z"
    }
   }
  },
  {
   "cell_type": "code",
   "execution_count": 128,
   "outputs": [
    {
     "data": {
      "text/plain": "MultinomialNB()",
      "text/html": "<style>#sk-container-id-4 {color: black;background-color: white;}#sk-container-id-4 pre{padding: 0;}#sk-container-id-4 div.sk-toggleable {background-color: white;}#sk-container-id-4 label.sk-toggleable__label {cursor: pointer;display: block;width: 100%;margin-bottom: 0;padding: 0.3em;box-sizing: border-box;text-align: center;}#sk-container-id-4 label.sk-toggleable__label-arrow:before {content: \"▸\";float: left;margin-right: 0.25em;color: #696969;}#sk-container-id-4 label.sk-toggleable__label-arrow:hover:before {color: black;}#sk-container-id-4 div.sk-estimator:hover label.sk-toggleable__label-arrow:before {color: black;}#sk-container-id-4 div.sk-toggleable__content {max-height: 0;max-width: 0;overflow: hidden;text-align: left;background-color: #f0f8ff;}#sk-container-id-4 div.sk-toggleable__content pre {margin: 0.2em;color: black;border-radius: 0.25em;background-color: #f0f8ff;}#sk-container-id-4 input.sk-toggleable__control:checked~div.sk-toggleable__content {max-height: 200px;max-width: 100%;overflow: auto;}#sk-container-id-4 input.sk-toggleable__control:checked~label.sk-toggleable__label-arrow:before {content: \"▾\";}#sk-container-id-4 div.sk-estimator input.sk-toggleable__control:checked~label.sk-toggleable__label {background-color: #d4ebff;}#sk-container-id-4 div.sk-label input.sk-toggleable__control:checked~label.sk-toggleable__label {background-color: #d4ebff;}#sk-container-id-4 input.sk-hidden--visually {border: 0;clip: rect(1px 1px 1px 1px);clip: rect(1px, 1px, 1px, 1px);height: 1px;margin: -1px;overflow: hidden;padding: 0;position: absolute;width: 1px;}#sk-container-id-4 div.sk-estimator {font-family: monospace;background-color: #f0f8ff;border: 1px dotted black;border-radius: 0.25em;box-sizing: border-box;margin-bottom: 0.5em;}#sk-container-id-4 div.sk-estimator:hover {background-color: #d4ebff;}#sk-container-id-4 div.sk-parallel-item::after {content: \"\";width: 100%;border-bottom: 1px solid gray;flex-grow: 1;}#sk-container-id-4 div.sk-label:hover label.sk-toggleable__label {background-color: #d4ebff;}#sk-container-id-4 div.sk-serial::before {content: \"\";position: absolute;border-left: 1px solid gray;box-sizing: border-box;top: 0;bottom: 0;left: 50%;z-index: 0;}#sk-container-id-4 div.sk-serial {display: flex;flex-direction: column;align-items: center;background-color: white;padding-right: 0.2em;padding-left: 0.2em;position: relative;}#sk-container-id-4 div.sk-item {position: relative;z-index: 1;}#sk-container-id-4 div.sk-parallel {display: flex;align-items: stretch;justify-content: center;background-color: white;position: relative;}#sk-container-id-4 div.sk-item::before, #sk-container-id-4 div.sk-parallel-item::before {content: \"\";position: absolute;border-left: 1px solid gray;box-sizing: border-box;top: 0;bottom: 0;left: 50%;z-index: -1;}#sk-container-id-4 div.sk-parallel-item {display: flex;flex-direction: column;z-index: 1;position: relative;background-color: white;}#sk-container-id-4 div.sk-parallel-item:first-child::after {align-self: flex-end;width: 50%;}#sk-container-id-4 div.sk-parallel-item:last-child::after {align-self: flex-start;width: 50%;}#sk-container-id-4 div.sk-parallel-item:only-child::after {width: 0;}#sk-container-id-4 div.sk-dashed-wrapped {border: 1px dashed gray;margin: 0 0.4em 0.5em 0.4em;box-sizing: border-box;padding-bottom: 0.4em;background-color: white;}#sk-container-id-4 div.sk-label label {font-family: monospace;font-weight: bold;display: inline-block;line-height: 1.2em;}#sk-container-id-4 div.sk-label-container {text-align: center;}#sk-container-id-4 div.sk-container {/* jupyter's `normalize.less` sets `[hidden] { display: none; }` but bootstrap.min.css set `[hidden] { display: none !important; }` so we also need the `!important` here to be able to override the default hidden behavior on the sphinx rendered scikit-learn.org. See: https://github.com/scikit-learn/scikit-learn/issues/21755 */display: inline-block !important;position: relative;}#sk-container-id-4 div.sk-text-repr-fallback {display: none;}</style><div id=\"sk-container-id-4\" class=\"sk-top-container\"><div class=\"sk-text-repr-fallback\"><pre>MultinomialNB()</pre><b>In a Jupyter environment, please rerun this cell to show the HTML representation or trust the notebook. <br />On GitHub, the HTML representation is unable to render, please try loading this page with nbviewer.org.</b></div><div class=\"sk-container\" hidden><div class=\"sk-item\"><div class=\"sk-estimator sk-toggleable\"><input class=\"sk-toggleable__control sk-hidden--visually\" id=\"sk-estimator-id-4\" type=\"checkbox\" checked><label for=\"sk-estimator-id-4\" class=\"sk-toggleable__label sk-toggleable__label-arrow\">MultinomialNB</label><div class=\"sk-toggleable__content\"><pre>MultinomialNB()</pre></div></div></div></div></div>"
     },
     "execution_count": 128,
     "metadata": {},
     "output_type": "execute_result"
    }
   ],
   "source": [
    "nb_model.fit(X_train_cVec, Y_train)"
   ],
   "metadata": {
    "collapsed": false,
    "ExecuteTime": {
     "start_time": "2023-04-27T23:20:49.111888Z",
     "end_time": "2023-04-27T23:20:49.368541Z"
    }
   }
  },
  {
   "cell_type": "code",
   "execution_count": 129,
   "outputs": [],
   "source": [
    "predict = nb_model.predict(X_test_cVec)"
   ],
   "metadata": {
    "collapsed": false,
    "ExecuteTime": {
     "start_time": "2023-04-27T23:20:49.117101Z",
     "end_time": "2023-04-27T23:20:49.368579Z"
    }
   }
  },
  {
   "cell_type": "code",
   "execution_count": 130,
   "outputs": [
    {
     "name": "stdout",
     "output_type": "stream",
     "text": [
      "[[165  26]\n",
      " [ 13 187]]\n"
     ]
    }
   ],
   "source": [
    "print(confusion_matrix(Y_test, predict))"
   ],
   "metadata": {
    "collapsed": false,
    "ExecuteTime": {
     "start_time": "2023-04-27T23:20:49.122086Z",
     "end_time": "2023-04-27T23:20:49.368646Z"
    }
   }
  },
  {
   "cell_type": "code",
   "execution_count": 131,
   "outputs": [
    {
     "name": "stdout",
     "output_type": "stream",
     "text": [
      "              precision    recall  f1-score   support\n",
      "\n",
      "           0       0.93      0.86      0.89       191\n",
      "           1       0.88      0.94      0.91       200\n",
      "\n",
      "    accuracy                           0.90       391\n",
      "   macro avg       0.90      0.90      0.90       391\n",
      "weighted avg       0.90      0.90      0.90       391\n",
      "\n"
     ]
    }
   ],
   "source": [
    "print(classification_report(Y_test, predict))"
   ],
   "metadata": {
    "collapsed": false,
    "ExecuteTime": {
     "start_time": "2023-04-27T23:20:49.126409Z",
     "end_time": "2023-04-27T23:20:49.377403Z"
    }
   }
  },
  {
   "cell_type": "markdown",
   "source": [
    "### 5. Nn-LSTM"
   ],
   "metadata": {
    "collapsed": false
   }
  },
  {
   "cell_type": "markdown",
   "source": [
    "Немного другой подход к представлению данных для обучения.\n",
    "1. Разбиение на слова с помощью Tokenizer, выбираем 1000 наиболее встречаемых\n",
    "2. Создание словаря на основе наших комментариев. Каждому слову присваивается индекс\n",
    "3. Получение списка чисел, где каждое число - индекс"
   ],
   "metadata": {
    "collapsed": false
   }
  },
  {
   "cell_type": "code",
   "execution_count": 132,
   "outputs": [],
   "source": [
    "tok_train = Tokenizer(num_words=1000)\n",
    "tok_train.fit_on_texts(X_train)\n",
    "seq_train = tok_train.texts_to_sequences(X_train)"
   ],
   "metadata": {
    "collapsed": false,
    "ExecuteTime": {
     "start_time": "2023-04-27T23:20:49.138427Z",
     "end_time": "2023-04-27T23:20:49.526030Z"
    }
   }
  },
  {
   "cell_type": "markdown",
   "source": [
    "Дополнение последовательности нулями или обрезание до 150\n",
    "каждая строка матрицы - последовательность индексов слов."
   ],
   "metadata": {
    "collapsed": false
   }
  },
  {
   "cell_type": "code",
   "execution_count": 133,
   "outputs": [],
   "source": [
    "seq_train_mat = pad_sequences(seq_train, maxlen=150)"
   ],
   "metadata": {
    "collapsed": false,
    "ExecuteTime": {
     "start_time": "2023-04-27T23:20:49.192331Z",
     "end_time": "2023-04-27T23:20:49.526184Z"
    }
   }
  },
  {
   "cell_type": "code",
   "execution_count": 134,
   "outputs": [],
   "source": [
    "tok_test = Tokenizer(num_words=1000)\n",
    "tok_test.fit_on_texts(X_test)\n",
    "seq_test = tok_train.texts_to_sequences(X_test)"
   ],
   "metadata": {
    "collapsed": false,
    "ExecuteTime": {
     "start_time": "2023-04-27T23:20:49.207923Z",
     "end_time": "2023-04-27T23:20:49.526430Z"
    }
   }
  },
  {
   "cell_type": "code",
   "execution_count": 135,
   "outputs": [],
   "source": [
    "seq_test_mat = pad_sequences(seq_test, maxlen=150)"
   ],
   "metadata": {
    "collapsed": false,
    "ExecuteTime": {
     "start_time": "2023-04-27T23:20:49.255804Z",
     "end_time": "2023-04-27T23:20:49.526475Z"
    }
   }
  },
  {
   "cell_type": "markdown",
   "source": [
    "Рекурентная нейронная сеть с заданными слоями:\n",
    "1. Embedding - слой векторного представления слов. Вектор длины 1000 - размер словаря, 32 - размерность вектора каждого слова, 150 - максимальная длина текста\n",
    "2. Слой с 64 открытыми состояниями. Позволяет запоминать и использовать инфу с прошлых состояний.\n",
    "3. Dense - полносвязный слой. Принимает выходы предыдущего и возвращает значение от 0 до 1, sigmoid - для преобразования выходных значений в вероятности.\n",
    "* Sequental - слои располагаются друг за другом в едином потоке."
   ],
   "metadata": {
    "collapsed": false
   }
  },
  {
   "cell_type": "code",
   "execution_count": 136,
   "outputs": [
    {
     "name": "stderr",
     "output_type": "stream",
     "text": [
      "2023-04-27 23:20:49.361091: I tensorflow/core/common_runtime/executor.cc:1197] [/device:CPU:0] (DEBUG INFO) Executor start aborting (this does not indicate an error and you can ignore this message): INVALID_ARGUMENT: You must feed a value for placeholder tensor 'gradients/split_2_grad/concat/split_2/split_dim' with dtype int32\n",
      "\t [[{{node gradients/split_2_grad/concat/split_2/split_dim}}]]\n",
      "2023-04-27 23:20:49.362289: I tensorflow/core/common_runtime/executor.cc:1197] [/device:CPU:0] (DEBUG INFO) Executor start aborting (this does not indicate an error and you can ignore this message): INVALID_ARGUMENT: You must feed a value for placeholder tensor 'gradients/split_grad/concat/split/split_dim' with dtype int32\n",
      "\t [[{{node gradients/split_grad/concat/split/split_dim}}]]\n",
      "2023-04-27 23:20:49.363119: I tensorflow/core/common_runtime/executor.cc:1197] [/device:CPU:0] (DEBUG INFO) Executor start aborting (this does not indicate an error and you can ignore this message): INVALID_ARGUMENT: You must feed a value for placeholder tensor 'gradients/split_1_grad/concat/split_1/split_dim' with dtype int32\n",
      "\t [[{{node gradients/split_1_grad/concat/split_1/split_dim}}]]\n"
     ]
    }
   ],
   "source": [
    "lstm_model = Sequential([\n",
    "    layers.Embedding(input_dim=1000, output_dim=32, input_length=150),\n",
    "    layers.LSTM(64),\n",
    "    layers.Dense(1, activation='sigmoid')\n",
    "])"
   ],
   "metadata": {
    "collapsed": false,
    "ExecuteTime": {
     "start_time": "2023-04-27T23:20:49.255870Z",
     "end_time": "2023-04-27T23:20:49.622091Z"
    }
   }
  },
  {
   "cell_type": "code",
   "execution_count": 137,
   "outputs": [
    {
     "name": "stdout",
     "output_type": "stream",
     "text": [
      "Model: \"sequential_1\"\n",
      "_________________________________________________________________\n",
      " Layer (type)                Output Shape              Param #   \n",
      "=================================================================\n",
      " embedding_1 (Embedding)     (None, 150, 32)           32000     \n",
      "                                                                 \n",
      " lstm_1 (LSTM)               (None, 64)                24832     \n",
      "                                                                 \n",
      " dense_1 (Dense)             (None, 1)                 65        \n",
      "                                                                 \n",
      "=================================================================\n",
      "Total params: 56,897\n",
      "Trainable params: 56,897\n",
      "Non-trainable params: 0\n",
      "_________________________________________________________________\n"
     ]
    }
   ],
   "source": [
    "lstm_model.summary()"
   ],
   "metadata": {
    "collapsed": false,
    "ExecuteTime": {
     "start_time": "2023-04-27T23:20:49.386002Z",
     "end_time": "2023-04-27T23:20:49.724438Z"
    }
   }
  },
  {
   "cell_type": "markdown",
   "source": [
    "Обучение модели с конфигурацией: функция потерь - для бинарной классификации, метод оптимизации(обновления весов, смещения, метод - градиентная функция потерь)\n",
    "128 - количество примеров, которые используются для одного шага обновления весов.\n",
    "5 - количество эпох. - один проход по всем примерам"
   ],
   "metadata": {
    "collapsed": false
   }
  },
  {
   "cell_type": "code",
   "execution_count": 138,
   "outputs": [
    {
     "name": "stdout",
     "output_type": "stream",
     "text": [
      "Epoch 1/5\n"
     ]
    },
    {
     "name": "stderr",
     "output_type": "stream",
     "text": [
      "2023-04-27 23:20:49.577468: I tensorflow/core/common_runtime/executor.cc:1197] [/device:CPU:0] (DEBUG INFO) Executor start aborting (this does not indicate an error and you can ignore this message): INVALID_ARGUMENT: You must feed a value for placeholder tensor 'gradients/split_2_grad/concat/split_2/split_dim' with dtype int32\n",
      "\t [[{{node gradients/split_2_grad/concat/split_2/split_dim}}]]\n",
      "2023-04-27 23:20:49.579148: I tensorflow/core/common_runtime/executor.cc:1197] [/device:CPU:0] (DEBUG INFO) Executor start aborting (this does not indicate an error and you can ignore this message): INVALID_ARGUMENT: You must feed a value for placeholder tensor 'gradients/split_grad/concat/split/split_dim' with dtype int32\n",
      "\t [[{{node gradients/split_grad/concat/split/split_dim}}]]\n",
      "2023-04-27 23:20:49.580266: I tensorflow/core/common_runtime/executor.cc:1197] [/device:CPU:0] (DEBUG INFO) Executor start aborting (this does not indicate an error and you can ignore this message): INVALID_ARGUMENT: You must feed a value for placeholder tensor 'gradients/split_1_grad/concat/split_1/split_dim' with dtype int32\n",
      "\t [[{{node gradients/split_1_grad/concat/split_1/split_dim}}]]\n",
      "2023-04-27 23:20:50.018527: I tensorflow/core/common_runtime/executor.cc:1197] [/device:CPU:0] (DEBUG INFO) Executor start aborting (this does not indicate an error and you can ignore this message): INVALID_ARGUMENT: You must feed a value for placeholder tensor 'gradients/split_2_grad/concat/split_2/split_dim' with dtype int32\n",
      "\t [[{{node gradients/split_2_grad/concat/split_2/split_dim}}]]\n",
      "2023-04-27 23:20:50.019936: I tensorflow/core/common_runtime/executor.cc:1197] [/device:CPU:0] (DEBUG INFO) Executor start aborting (this does not indicate an error and you can ignore this message): INVALID_ARGUMENT: You must feed a value for placeholder tensor 'gradients/split_grad/concat/split/split_dim' with dtype int32\n",
      "\t [[{{node gradients/split_grad/concat/split/split_dim}}]]\n",
      "2023-04-27 23:20:50.020944: I tensorflow/core/common_runtime/executor.cc:1197] [/device:CPU:0] (DEBUG INFO) Executor start aborting (this does not indicate an error and you can ignore this message): INVALID_ARGUMENT: You must feed a value for placeholder tensor 'gradients/split_1_grad/concat/split_1/split_dim' with dtype int32\n",
      "\t [[{{node gradients/split_1_grad/concat/split_1/split_dim}}]]\n"
     ]
    },
    {
     "name": "stdout",
     "output_type": "stream",
     "text": [
      "10/10 [==============================] - 2s 83ms/step - loss: 0.6836 - accuracy: 0.6381 - val_loss: 0.6646 - val_accuracy: 0.6613\n",
      "Epoch 2/5\n"
     ]
    },
    {
     "name": "stderr",
     "output_type": "stream",
     "text": [
      "2023-04-27 23:20:51.319229: I tensorflow/core/common_runtime/executor.cc:1197] [/device:CPU:0] (DEBUG INFO) Executor start aborting (this does not indicate an error and you can ignore this message): INVALID_ARGUMENT: You must feed a value for placeholder tensor 'gradients/split_2_grad/concat/split_2/split_dim' with dtype int32\n",
      "\t [[{{node gradients/split_2_grad/concat/split_2/split_dim}}]]\n",
      "2023-04-27 23:20:51.320278: I tensorflow/core/common_runtime/executor.cc:1197] [/device:CPU:0] (DEBUG INFO) Executor start aborting (this does not indicate an error and you can ignore this message): INVALID_ARGUMENT: You must feed a value for placeholder tensor 'gradients/split_grad/concat/split/split_dim' with dtype int32\n",
      "\t [[{{node gradients/split_grad/concat/split/split_dim}}]]\n",
      "2023-04-27 23:20:51.320994: I tensorflow/core/common_runtime/executor.cc:1197] [/device:CPU:0] (DEBUG INFO) Executor start aborting (this does not indicate an error and you can ignore this message): INVALID_ARGUMENT: You must feed a value for placeholder tensor 'gradients/split_1_grad/concat/split_1/split_dim' with dtype int32\n",
      "\t [[{{node gradients/split_1_grad/concat/split_1/split_dim}}]]\n"
     ]
    },
    {
     "name": "stdout",
     "output_type": "stream",
     "text": [
      "10/10 [==============================] - 1s 55ms/step - loss: 0.6407 - accuracy: 0.6733 - val_loss: 0.5917 - val_accuracy: 0.6677\n",
      "Epoch 3/5\n",
      "10/10 [==============================] - 1s 53ms/step - loss: 0.5629 - accuracy: 0.7382 - val_loss: 0.5152 - val_accuracy: 0.8019\n",
      "Epoch 4/5\n",
      "10/10 [==============================] - 1s 56ms/step - loss: 0.4864 - accuracy: 0.8094 - val_loss: 0.4517 - val_accuracy: 0.8051\n",
      "Epoch 5/5\n",
      "10/10 [==============================] - 1s 58ms/step - loss: 0.3943 - accuracy: 0.8671 - val_loss: 0.3746 - val_accuracy: 0.8882\n"
     ]
    },
    {
     "data": {
      "text/plain": "<keras.callbacks.History at 0x7f5503d750d0>"
     },
     "execution_count": 138,
     "metadata": {},
     "output_type": "execute_result"
    }
   ],
   "source": [
    "lstm_model.compile(loss=losses.binary_crossentropy, optimizer=optimizers.RMSprop(), metrics=['accuracy'])\n",
    "lstm_model.fit(seq_train_mat, Y_train, batch_size=128, epochs=5, validation_split=0.2)"
   ],
   "metadata": {
    "collapsed": false,
    "ExecuteTime": {
     "start_time": "2023-04-27T23:20:49.431880Z",
     "end_time": "2023-04-27T23:20:53.752728Z"
    }
   }
  },
  {
   "cell_type": "markdown",
   "source": [],
   "metadata": {
    "collapsed": false
   }
  },
  {
   "cell_type": "markdown",
   "source": [],
   "metadata": {
    "collapsed": false
   }
  },
  {
   "cell_type": "code",
   "execution_count": 139,
   "outputs": [
    {
     "name": "stdout",
     "output_type": "stream",
     "text": [
      " 6/13 [============>.................] - ETA: 0s"
     ]
    },
    {
     "name": "stderr",
     "output_type": "stream",
     "text": [
      "2023-04-27 23:20:53.857090: I tensorflow/core/common_runtime/executor.cc:1197] [/device:CPU:0] (DEBUG INFO) Executor start aborting (this does not indicate an error and you can ignore this message): INVALID_ARGUMENT: You must feed a value for placeholder tensor 'gradients/split_2_grad/concat/split_2/split_dim' with dtype int32\n",
      "\t [[{{node gradients/split_2_grad/concat/split_2/split_dim}}]]\n",
      "2023-04-27 23:20:53.858042: I tensorflow/core/common_runtime/executor.cc:1197] [/device:CPU:0] (DEBUG INFO) Executor start aborting (this does not indicate an error and you can ignore this message): INVALID_ARGUMENT: You must feed a value for placeholder tensor 'gradients/split_grad/concat/split/split_dim' with dtype int32\n",
      "\t [[{{node gradients/split_grad/concat/split/split_dim}}]]\n",
      "2023-04-27 23:20:53.858767: I tensorflow/core/common_runtime/executor.cc:1197] [/device:CPU:0] (DEBUG INFO) Executor start aborting (this does not indicate an error and you can ignore this message): INVALID_ARGUMENT: You must feed a value for placeholder tensor 'gradients/split_1_grad/concat/split_1/split_dim' with dtype int32\n",
      "\t [[{{node gradients/split_1_grad/concat/split_1/split_dim}}]]\n"
     ]
    },
    {
     "name": "stdout",
     "output_type": "stream",
     "text": [
      "13/13 [==============================] - 0s 10ms/step\n"
     ]
    }
   ],
   "source": [
    "predict = lstm_model.predict(seq_test_mat)"
   ],
   "metadata": {
    "collapsed": false,
    "ExecuteTime": {
     "start_time": "2023-04-27T23:20:53.727817Z",
     "end_time": "2023-04-27T23:20:54.075011Z"
    }
   }
  },
  {
   "cell_type": "code",
   "execution_count": 140,
   "outputs": [
    {
     "name": "stdout",
     "output_type": "stream",
     "text": [
      "              precision    recall  f1-score   support\n",
      "\n",
      "           0       0.95      0.87      0.91       191\n",
      "           1       0.88      0.95      0.92       200\n",
      "\n",
      "    accuracy                           0.91       391\n",
      "   macro avg       0.92      0.91      0.91       391\n",
      "weighted avg       0.92      0.91      0.91       391\n",
      "\n"
     ]
    }
   ],
   "source": [
    "pr = (predict > 0.5).astype(int)\n",
    "print(classification_report(Y_test, pr))"
   ],
   "metadata": {
    "collapsed": false,
    "ExecuteTime": {
     "start_time": "2023-04-27T23:20:54.076087Z",
     "end_time": "2023-04-27T23:20:54.091582Z"
    }
   }
  },
  {
   "cell_type": "code",
   "execution_count": 140,
   "outputs": [],
   "source": [],
   "metadata": {
    "collapsed": false,
    "ExecuteTime": {
     "start_time": "2023-04-27T23:20:54.082888Z",
     "end_time": "2023-04-27T23:20:54.091678Z"
    }
   }
  }
 ],
 "metadata": {
  "kernelspec": {
   "display_name": "Python 3",
   "language": "python",
   "name": "python3"
  },
  "language_info": {
   "codemirror_mode": {
    "name": "ipython",
    "version": 2
   },
   "file_extension": ".py",
   "mimetype": "text/x-python",
   "name": "python",
   "nbconvert_exporter": "python",
   "pygments_lexer": "ipython2",
   "version": "2.7.6"
  }
 },
 "nbformat": 4,
 "nbformat_minor": 0
}
